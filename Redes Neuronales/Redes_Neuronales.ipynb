{
 "cells": [
  {
   "cell_type": "code",
   "execution_count": 1,
   "metadata": {},
   "outputs": [
    {
     "data": {
      "text/html": [
       "<script>\n",
       "code_show=true; \n",
       "function code_toggle() {\n",
       " if (code_show){\n",
       " $('div.input').hide();\n",
       " } else {\n",
       " $('div.input').show();\n",
       " }\n",
       " code_show = !code_show\n",
       "} \n",
       "$( document ).ready(code_toggle);\n",
       "</script>\n",
       "<form action=\"javascript:code_toggle()\"><input type=\"submit\" value=\"Click here to toggle on/off the raw code.\"></form>"
      ],
      "text/plain": [
       "<IPython.core.display.HTML object>"
      ]
     },
     "execution_count": 1,
     "metadata": {},
     "output_type": "execute_result"
    }
   ],
   "source": [
    "from IPython.display import HTML\n",
    "\n",
    "HTML('''<script>\n",
    "code_show=true; \n",
    "function code_toggle() {\n",
    " if (code_show){\n",
    " $('div.input').hide();\n",
    " } else {\n",
    " $('div.input').show();\n",
    " }\n",
    " code_show = !code_show\n",
    "} \n",
    "$( document ).ready(code_toggle);\n",
    "</script>\n",
    "<form action=\"javascript:code_toggle()\"><input type=\"submit\" value=\"Click here to toggle on/off the raw code.\"></form>''')"
   ]
  },
  {
   "cell_type": "markdown",
   "metadata": {},
   "source": [
    "# Redes Neuronales"
   ]
  },
  {
   "cell_type": "code",
   "execution_count": 1,
   "metadata": {},
   "outputs": [],
   "source": [
    "%matplotlib inline\n",
    "import numpy as np\n",
    "import matplotlib.pyplot as plt\n",
    "import pandas as pd \n",
    "import seaborn as sns\n",
    "\n",
    "#Keras\n",
    "import tensorflow as tf\n",
    "from keras.models import Sequential\n",
    "from keras.layers import Dense\n",
    "from keras.layers import Dropout"
   ]
  },
  {
   "cell_type": "markdown",
   "metadata": {},
   "source": [
    "<img src=\"australia.jpg\">"
   ]
  },
  {
   "cell_type": "markdown",
   "metadata": {},
   "source": [
    "Enrique Macip Belmonte y Maria Ruiz Teixidor"
   ]
  },
  {
   "cell_type": "markdown",
   "metadata": {},
   "source": [
    "# 1. Introducción"
   ]
  },
  {
   "cell_type": "markdown",
   "metadata": {},
   "source": [
    "Los datos usados para esta parte de la práctica son los mismos que en el apartado anterior y otras prácticas de ML. Los datos obtenidos de Kaggle tienen la información meteorológica de varios años en Australia, datos en los que viene incluida desde la velocidad del viento hasta la temperatura, en total 23 variables recogidas durante varios años en distintas ciudades de Australia con las que se obtienen un dataset de 140.000 líneas aproximadamente.\n",
    "\n",
    "Nuestro objetivo será predecir si llueve o no el día siguiente a partir los datos metereológicos del día. Nos interesará tener una matriz de confusión dónde los verdaderos positivos y los verdaderos negativos sean altos. Sobretodo nos interesará que el modelo prediga bien los días en los que sí llueve el día siguiente: verdaderos positivos. Por lo que nos vamos a centrar en la sensibilidad para poder contestar a la pregunta ¿Qué proporción de días de lluvia se han identificado correctamente?\n",
    "\n",
    "Con este dataset tan grande lo primero que nos planteamos fue centrarnos en dos cosas:\n",
    "\n",
    "    Utilizar una zona concreta de Australia, sacada de la variable localización, de la cual elegimos 4 ciudades situadas en la costa sureste de Australia.\n",
    "\n",
    "    Utilizar la variable temporal de alguna forma, ya que considerabamos que tenía importancia pero no podíamos usar cada día del año como un dato diferente, por lo que decidimos obtener a partir de la fecha la estación del año en la que estaba cada línea."
   ]
  },
  {
   "cell_type": "markdown",
   "metadata": {},
   "source": [
    "# 2. Lectura de datos"
   ]
  },
  {
   "cell_type": "markdown",
   "metadata": {},
   "source": [
    "Los datasets son los que se han usado previamente en otras prácticas, de manera que ya están con la adecuada imputación de nulos y divididos correctamente. En este caso los tenemos ya normalizados y separados por variables dummies.\n",
    "\n",
    "    80% training\n",
    "    10% test\n",
    "    10% validación\n"
   ]
  },
  {
   "cell_type": "code",
   "execution_count": 2,
   "metadata": {},
   "outputs": [],
   "source": [
    "df_train = pd.read_csv(\"datasets/df_train_estand.csv\") \n",
    "df_test = pd.read_csv(\"datasets/df_test_estand.csv\") "
   ]
  },
  {
   "cell_type": "code",
   "execution_count": 3,
   "metadata": {},
   "outputs": [
    {
     "data": {
      "text/html": [
       "<div>\n",
       "<style scoped>\n",
       "    .dataframe tbody tr th:only-of-type {\n",
       "        vertical-align: middle;\n",
       "    }\n",
       "\n",
       "    .dataframe tbody tr th {\n",
       "        vertical-align: top;\n",
       "    }\n",
       "\n",
       "    .dataframe thead th {\n",
       "        text-align: right;\n",
       "    }\n",
       "</style>\n",
       "<table border=\"1\" class=\"dataframe\">\n",
       "  <thead>\n",
       "    <tr style=\"text-align: right;\">\n",
       "      <th></th>\n",
       "      <th>Unnamed: 0</th>\n",
       "      <th>MinTemp</th>\n",
       "      <th>MaxTemp</th>\n",
       "      <th>Rainfall</th>\n",
       "      <th>Evaporation</th>\n",
       "      <th>Sunshine</th>\n",
       "      <th>WindGustSpeed</th>\n",
       "      <th>WindSpeed9am</th>\n",
       "      <th>WindSpeed3pm</th>\n",
       "      <th>Humidity9am</th>\n",
       "      <th>...</th>\n",
       "      <th>WindDir3pm_N</th>\n",
       "      <th>WindDir3pm_SSW</th>\n",
       "      <th>WindDir3pm_SE</th>\n",
       "      <th>WindDir3pm_NNW</th>\n",
       "      <th>WindDir3pm_ENE</th>\n",
       "      <th>WindDir3pm_NW</th>\n",
       "      <th>WindDir3pm_WSW</th>\n",
       "      <th>WindDir3pm_NE</th>\n",
       "      <th>WindDir3pm_NNE</th>\n",
       "      <th>WindDir3pm_SSE</th>\n",
       "    </tr>\n",
       "  </thead>\n",
       "  <tbody>\n",
       "    <tr>\n",
       "      <th>0</th>\n",
       "      <td>1</td>\n",
       "      <td>1.105881</td>\n",
       "      <td>0.463667</td>\n",
       "      <td>0.172916</td>\n",
       "      <td>0.464414</td>\n",
       "      <td>0.457727</td>\n",
       "      <td>1.420500</td>\n",
       "      <td>0.570674</td>\n",
       "      <td>1.871575</td>\n",
       "      <td>0.853231</td>\n",
       "      <td>...</td>\n",
       "      <td>0</td>\n",
       "      <td>0</td>\n",
       "      <td>0</td>\n",
       "      <td>0</td>\n",
       "      <td>0</td>\n",
       "      <td>0</td>\n",
       "      <td>0</td>\n",
       "      <td>0</td>\n",
       "      <td>0</td>\n",
       "      <td>0</td>\n",
       "    </tr>\n",
       "    <tr>\n",
       "      <th>1</th>\n",
       "      <td>2</td>\n",
       "      <td>1.208613</td>\n",
       "      <td>0.369192</td>\n",
       "      <td>0.003670</td>\n",
       "      <td>0.106431</td>\n",
       "      <td>-1.670080</td>\n",
       "      <td>0.195810</td>\n",
       "      <td>1.135058</td>\n",
       "      <td>0.337745</td>\n",
       "      <td>0.267711</td>\n",
       "      <td>...</td>\n",
       "      <td>0</td>\n",
       "      <td>0</td>\n",
       "      <td>0</td>\n",
       "      <td>0</td>\n",
       "      <td>0</td>\n",
       "      <td>0</td>\n",
       "      <td>0</td>\n",
       "      <td>0</td>\n",
       "      <td>0</td>\n",
       "      <td>0</td>\n",
       "    </tr>\n",
       "    <tr>\n",
       "      <th>2</th>\n",
       "      <td>3</td>\n",
       "      <td>1.585297</td>\n",
       "      <td>1.077751</td>\n",
       "      <td>-0.306613</td>\n",
       "      <td>0.882061</td>\n",
       "      <td>1.806338</td>\n",
       "      <td>-0.596637</td>\n",
       "      <td>-0.332339</td>\n",
       "      <td>-0.252190</td>\n",
       "      <td>-0.552017</td>\n",
       "      <td>...</td>\n",
       "      <td>0</td>\n",
       "      <td>0</td>\n",
       "      <td>0</td>\n",
       "      <td>0</td>\n",
       "      <td>0</td>\n",
       "      <td>0</td>\n",
       "      <td>0</td>\n",
       "      <td>0</td>\n",
       "      <td>0</td>\n",
       "      <td>0</td>\n",
       "    </tr>\n",
       "    <tr>\n",
       "      <th>3</th>\n",
       "      <td>4</td>\n",
       "      <td>-0.109781</td>\n",
       "      <td>0.180243</td>\n",
       "      <td>-0.221990</td>\n",
       "      <td>-0.191888</td>\n",
       "      <td>0.337851</td>\n",
       "      <td>-0.308474</td>\n",
       "      <td>-0.558093</td>\n",
       "      <td>-1.196085</td>\n",
       "      <td>-0.259257</td>\n",
       "      <td>...</td>\n",
       "      <td>0</td>\n",
       "      <td>0</td>\n",
       "      <td>0</td>\n",
       "      <td>0</td>\n",
       "      <td>0</td>\n",
       "      <td>0</td>\n",
       "      <td>0</td>\n",
       "      <td>0</td>\n",
       "      <td>0</td>\n",
       "      <td>0</td>\n",
       "    </tr>\n",
       "  </tbody>\n",
       "</table>\n",
       "<p>4 rows × 75 columns</p>\n",
       "</div>"
      ],
      "text/plain": [
       "   Unnamed: 0   MinTemp   MaxTemp  Rainfall  Evaporation  Sunshine  \\\n",
       "0           1  1.105881  0.463667  0.172916     0.464414  0.457727   \n",
       "1           2  1.208613  0.369192  0.003670     0.106431 -1.670080   \n",
       "2           3  1.585297  1.077751 -0.306613     0.882061  1.806338   \n",
       "3           4 -0.109781  0.180243 -0.221990    -0.191888  0.337851   \n",
       "\n",
       "   WindGustSpeed  WindSpeed9am  WindSpeed3pm  Humidity9am  ...  WindDir3pm_N  \\\n",
       "0       1.420500      0.570674      1.871575     0.853231  ...             0   \n",
       "1       0.195810      1.135058      0.337745     0.267711  ...             0   \n",
       "2      -0.596637     -0.332339     -0.252190    -0.552017  ...             0   \n",
       "3      -0.308474     -0.558093     -1.196085    -0.259257  ...             0   \n",
       "\n",
       "   WindDir3pm_SSW  WindDir3pm_SE  WindDir3pm_NNW  WindDir3pm_ENE  \\\n",
       "0               0              0               0               0   \n",
       "1               0              0               0               0   \n",
       "2               0              0               0               0   \n",
       "3               0              0               0               0   \n",
       "\n",
       "   WindDir3pm_NW  WindDir3pm_WSW  WindDir3pm_NE  WindDir3pm_NNE  \\\n",
       "0              0               0              0               0   \n",
       "1              0               0              0               0   \n",
       "2              0               0              0               0   \n",
       "3              0               0              0               0   \n",
       "\n",
       "   WindDir3pm_SSE  \n",
       "0               0  \n",
       "1               0  \n",
       "2               0  \n",
       "3               0  \n",
       "\n",
       "[4 rows x 75 columns]"
      ]
     },
     "execution_count": 3,
     "metadata": {},
     "output_type": "execute_result"
    }
   ],
   "source": [
    "df_train.head(4)"
   ]
  },
  {
   "cell_type": "code",
   "execution_count": 4,
   "metadata": {},
   "outputs": [],
   "source": [
    "del df_train['Unnamed: 0']\n",
    "del df_test['Unnamed: 0']"
   ]
  },
  {
   "cell_type": "code",
   "execution_count": 5,
   "metadata": {},
   "outputs": [],
   "source": [
    "df_selected_train = df_train[['MinTemp', 'MaxTemp', 'Rainfall', 'Evaporation', 'Sunshine', 'WindGustSpeed', 'WindSpeed9am', 'WindSpeed3pm', 'Humidity9am','Humidity3pm', 'Pressure9am', 'Pressure3pm', 'Cloud9am', 'Cloud3pm', 'Temp9am', 'Temp3pm', 'RainToday', 'Location_Canberra', 'Location_Adelaide', 'Location_Melbourne', 'Location_Sydney', 'Season_fall', 'Season_spring', 'Season_winter', 'Season_summer', 'RainTomorrow']]\n",
    "df_selected_test = df_test[['MinTemp', 'MaxTemp', 'Rainfall', 'Evaporation', 'Sunshine', 'WindGustSpeed', 'WindSpeed9am', 'WindSpeed3pm', 'Humidity9am','Humidity3pm', 'Pressure9am', 'Pressure3pm', 'Cloud9am', 'Cloud3pm', 'Temp9am', 'Temp3pm', 'RainToday', 'Location_Canberra', 'Location_Adelaide', 'Location_Melbourne', 'Location_Sydney', 'Season_fall', 'Season_spring', 'Season_winter', 'Season_summer', 'RainTomorrow']]"
   ]
  },
  {
   "cell_type": "code",
   "execution_count": 6,
   "metadata": {},
   "outputs": [
    {
     "data": {
      "text/html": [
       "<div>\n",
       "<style scoped>\n",
       "    .dataframe tbody tr th:only-of-type {\n",
       "        vertical-align: middle;\n",
       "    }\n",
       "\n",
       "    .dataframe tbody tr th {\n",
       "        vertical-align: top;\n",
       "    }\n",
       "\n",
       "    .dataframe thead th {\n",
       "        text-align: right;\n",
       "    }\n",
       "</style>\n",
       "<table border=\"1\" class=\"dataframe\">\n",
       "  <thead>\n",
       "    <tr style=\"text-align: right;\">\n",
       "      <th></th>\n",
       "      <th>MinTemp</th>\n",
       "      <th>MaxTemp</th>\n",
       "      <th>Rainfall</th>\n",
       "      <th>Evaporation</th>\n",
       "      <th>Sunshine</th>\n",
       "      <th>WindGustSpeed</th>\n",
       "      <th>WindSpeed9am</th>\n",
       "      <th>WindSpeed3pm</th>\n",
       "      <th>Humidity9am</th>\n",
       "      <th>Humidity3pm</th>\n",
       "      <th>...</th>\n",
       "      <th>RainToday</th>\n",
       "      <th>Location_Canberra</th>\n",
       "      <th>Location_Adelaide</th>\n",
       "      <th>Location_Melbourne</th>\n",
       "      <th>Location_Sydney</th>\n",
       "      <th>Season_fall</th>\n",
       "      <th>Season_spring</th>\n",
       "      <th>Season_winter</th>\n",
       "      <th>Season_summer</th>\n",
       "      <th>RainTomorrow</th>\n",
       "    </tr>\n",
       "  </thead>\n",
       "  <tbody>\n",
       "    <tr>\n",
       "      <th>0</th>\n",
       "      <td>1.105881</td>\n",
       "      <td>0.463667</td>\n",
       "      <td>0.172916</td>\n",
       "      <td>0.464414</td>\n",
       "      <td>0.457727</td>\n",
       "      <td>1.420500</td>\n",
       "      <td>0.570674</td>\n",
       "      <td>1.871575</td>\n",
       "      <td>0.853231</td>\n",
       "      <td>0.591041</td>\n",
       "      <td>...</td>\n",
       "      <td>1</td>\n",
       "      <td>0</td>\n",
       "      <td>0</td>\n",
       "      <td>0</td>\n",
       "      <td>1</td>\n",
       "      <td>0</td>\n",
       "      <td>0</td>\n",
       "      <td>0</td>\n",
       "      <td>1</td>\n",
       "      <td>0</td>\n",
       "    </tr>\n",
       "    <tr>\n",
       "      <th>1</th>\n",
       "      <td>1.208613</td>\n",
       "      <td>0.369192</td>\n",
       "      <td>0.003670</td>\n",
       "      <td>0.106431</td>\n",
       "      <td>-1.670080</td>\n",
       "      <td>0.195810</td>\n",
       "      <td>1.135058</td>\n",
       "      <td>0.337745</td>\n",
       "      <td>0.267711</td>\n",
       "      <td>0.591041</td>\n",
       "      <td>...</td>\n",
       "      <td>1</td>\n",
       "      <td>0</td>\n",
       "      <td>0</td>\n",
       "      <td>0</td>\n",
       "      <td>1</td>\n",
       "      <td>1</td>\n",
       "      <td>0</td>\n",
       "      <td>0</td>\n",
       "      <td>0</td>\n",
       "      <td>1</td>\n",
       "    </tr>\n",
       "    <tr>\n",
       "      <th>2</th>\n",
       "      <td>1.585297</td>\n",
       "      <td>1.077751</td>\n",
       "      <td>-0.306613</td>\n",
       "      <td>0.882061</td>\n",
       "      <td>1.806338</td>\n",
       "      <td>-0.596637</td>\n",
       "      <td>-0.332339</td>\n",
       "      <td>-0.252190</td>\n",
       "      <td>-0.552017</td>\n",
       "      <td>-0.370259</td>\n",
       "      <td>...</td>\n",
       "      <td>0</td>\n",
       "      <td>0</td>\n",
       "      <td>1</td>\n",
       "      <td>0</td>\n",
       "      <td>0</td>\n",
       "      <td>0</td>\n",
       "      <td>0</td>\n",
       "      <td>0</td>\n",
       "      <td>1</td>\n",
       "      <td>0</td>\n",
       "    </tr>\n",
       "    <tr>\n",
       "      <th>3</th>\n",
       "      <td>-0.109781</td>\n",
       "      <td>0.180243</td>\n",
       "      <td>-0.221990</td>\n",
       "      <td>-0.191888</td>\n",
       "      <td>0.337851</td>\n",
       "      <td>-0.308474</td>\n",
       "      <td>-0.558093</td>\n",
       "      <td>-1.196085</td>\n",
       "      <td>-0.259257</td>\n",
       "      <td>-0.652995</td>\n",
       "      <td>...</td>\n",
       "      <td>0</td>\n",
       "      <td>0</td>\n",
       "      <td>0</td>\n",
       "      <td>1</td>\n",
       "      <td>0</td>\n",
       "      <td>0</td>\n",
       "      <td>1</td>\n",
       "      <td>0</td>\n",
       "      <td>0</td>\n",
       "      <td>0</td>\n",
       "    </tr>\n",
       "  </tbody>\n",
       "</table>\n",
       "<p>4 rows × 26 columns</p>\n",
       "</div>"
      ],
      "text/plain": [
       "    MinTemp   MaxTemp  Rainfall  Evaporation  Sunshine  WindGustSpeed  \\\n",
       "0  1.105881  0.463667  0.172916     0.464414  0.457727       1.420500   \n",
       "1  1.208613  0.369192  0.003670     0.106431 -1.670080       0.195810   \n",
       "2  1.585297  1.077751 -0.306613     0.882061  1.806338      -0.596637   \n",
       "3 -0.109781  0.180243 -0.221990    -0.191888  0.337851      -0.308474   \n",
       "\n",
       "   WindSpeed9am  WindSpeed3pm  Humidity9am  Humidity3pm  ...  RainToday  \\\n",
       "0      0.570674      1.871575     0.853231     0.591041  ...          1   \n",
       "1      1.135058      0.337745     0.267711     0.591041  ...          1   \n",
       "2     -0.332339     -0.252190    -0.552017    -0.370259  ...          0   \n",
       "3     -0.558093     -1.196085    -0.259257    -0.652995  ...          0   \n",
       "\n",
       "   Location_Canberra  Location_Adelaide  Location_Melbourne  Location_Sydney  \\\n",
       "0                  0                  0                   0                1   \n",
       "1                  0                  0                   0                1   \n",
       "2                  0                  1                   0                0   \n",
       "3                  0                  0                   1                0   \n",
       "\n",
       "   Season_fall  Season_spring  Season_winter  Season_summer  RainTomorrow  \n",
       "0            0              0              0              1             0  \n",
       "1            1              0              0              0             1  \n",
       "2            0              0              0              1             0  \n",
       "3            0              1              0              0             0  \n",
       "\n",
       "[4 rows x 26 columns]"
      ]
     },
     "execution_count": 6,
     "metadata": {},
     "output_type": "execute_result"
    }
   ],
   "source": [
    "df_selected_train.head(4)"
   ]
  },
  {
   "cell_type": "markdown",
   "metadata": {},
   "source": [
    "Transformamos el dataframe a matrices."
   ]
  },
  {
   "cell_type": "code",
   "execution_count": 7,
   "metadata": {},
   "outputs": [],
   "source": [
    "X_train = df_selected_train.iloc[:, :-1].values \n",
    "y_train = df_selected_train.iloc[:, -1:].values\n",
    "X_test = df_selected_test.iloc[:, :-1].values\n",
    "y_test = df_selected_test.iloc[:, -1:].values"
   ]
  },
  {
   "cell_type": "markdown",
   "metadata": {},
   "source": [
    "# 3. Ajuste de redes neuronales"
   ]
  },
  {
   "cell_type": "markdown",
   "metadata": {},
   "source": [
    "Antes de comenzar con el ajuste, queríamos comentar que este es un dataset desbalanceado y que en este apartado no se balanceará en la red, pues se quiere ver cómo mejorarían los resultados en el apartado siguiente, balanceando los datos."
   ]
  },
  {
   "cell_type": "code",
   "execution_count": 8,
   "metadata": {},
   "outputs": [
    {
     "data": {
      "image/png": "[encoded data removed]",
      "text/plain": [
       "<Figure size 432x432 with 1 Axes>"
      ]
     },
     "metadata": {
      "needs_background": "light"
     },
     "output_type": "display_data"
    }
   ],
   "source": [
    "g = sns.catplot(x=\"RainTomorrow\", data=df_selected_train, height=6, kind=\"count\", palette=\"husl\")\n",
    "g.despine(left=True)\n",
    "g.set_ylabels(\"Número de días\")\n",
    "g.fig.suptitle('Número de muestras por clase del dataset train original') \n",
    "plt.ylim(0, 7000)\n",
    "plt.show()"
   ]
  },
  {
   "cell_type": "markdown",
   "metadata": {},
   "source": [
    "## 3.1 Configuración 1 "
   ]
  },
  {
   "cell_type": "markdown",
   "metadata": {},
   "source": [
    "En primer lugar, realizamos una prueba con una red neuronal secuencial y a partir de ésta vamos a ir cambiando las confuguraciones y ajustando. Hemos decidido empezar con una red de tres capas:\n",
    "\n",
    "  - Capa inicial: dónde indicamos el número de variables entrantes y las neuronas (12). Función de activación Relu.\n",
    "  - Capa intermedia: con 8 neuronas y función de activación relu.\n",
    "  - Capa final: una única neurona y función de activación sigmoid ya que la salida de nuestro modelo tiene que ser binaria."
   ]
  },
  {
   "cell_type": "markdown",
   "metadata": {},
   "source": [
    "### Configuración de la red"
   ]
  },
  {
   "cell_type": "code",
   "execution_count": 9,
   "metadata": {},
   "outputs": [],
   "source": [
    "model = Sequential()\n",
    "model.add(Dense(12, input_dim=25, activation='relu'))\n",
    "model.add(Dense(8, activation='relu'))\n",
    "model.add(Dense(1, activation='sigmoid'))"
   ]
  },
  {
   "cell_type": "code",
   "execution_count": 10,
   "metadata": {},
   "outputs": [
    {
     "name": "stdout",
     "output_type": "stream",
     "text": [
      "Model: \"sequential\"\n",
      "_________________________________________________________________\n",
      "Layer (type)                 Output Shape              Param #   \n",
      "=================================================================\n",
      "dense (Dense)                (None, 12)                312       \n",
      "_________________________________________________________________\n",
      "dense_1 (Dense)              (None, 8)                 104       \n",
      "_________________________________________________________________\n",
      "dense_2 (Dense)              (None, 1)                 9         \n",
      "=================================================================\n",
      "Total params: 425\n",
      "Trainable params: 425\n",
      "Non-trainable params: 0\n",
      "_________________________________________________________________\n"
     ]
    }
   ],
   "source": [
    "model.summary()"
   ]
  },
  {
   "cell_type": "markdown",
   "metadata": {},
   "source": [
    "Compilamos la red neuronal, indicando las métricas que queremos obtener (accuracy, recall y precision), el optimizador y la función de coste:"
   ]
  },
  {
   "cell_type": "code",
   "execution_count": 11,
   "metadata": {},
   "outputs": [],
   "source": [
    "recall = tf.keras.metrics.Recall()\n",
    "precision = tf.keras.metrics.Precision()"
   ]
  },
  {
   "cell_type": "code",
   "execution_count": 12,
   "metadata": {},
   "outputs": [],
   "source": [
    "model.compile(loss='binary_crossentropy', optimizer='adam', metrics=['accuracy',recall,precision])"
   ]
  },
  {
   "cell_type": "markdown",
   "metadata": {},
   "source": [
    "### Entrenamiento"
   ]
  },
  {
   "cell_type": "markdown",
   "metadata": {},
   "source": [
    "Entrenamos la red con 150 épocas y un tamaño de batch = 10:"
   ]
  },
  {
   "cell_type": "code",
   "execution_count": 13,
   "metadata": {},
   "outputs": [
    {
     "name": "stdout",
     "output_type": "stream",
     "text": [
      "Epoch 1/150\n",
      "820/820 [==============================] - 1s 643us/step - loss: 0.4469 - accuracy: 0.8107 - recall: 0.3291 - precision: 0.6865\n",
      "Epoch 2/150\n",
      "820/820 [==============================] - 1s 625us/step - loss: 0.3800 - accuracy: 0.8380 - recall: 0.5148 - precision: 0.7030\n",
      "Epoch 3/150\n",
      "820/820 [==============================] - 1s 629us/step - loss: 0.3725 - accuracy: 0.8401 - recall: 0.5190 - precision: 0.7093\n",
      "Epoch 4/150\n",
      "820/820 [==============================] - 1s 633us/step - loss: 0.3680 - accuracy: 0.8438 - recall: 0.5307 - precision: 0.7180\n",
      "Epoch 5/150\n",
      "820/820 [==============================] - 1s 630us/step - loss: 0.3647 - accuracy: 0.8432 - recall: 0.5180 - precision: 0.7230\n",
      "Epoch 6/150\n",
      "820/820 [==============================] - 1s 633us/step - loss: 0.3613 - accuracy: 0.8468 - recall: 0.5317 - precision: 0.7304\n",
      "Epoch 7/150\n",
      "820/820 [==============================] - 1s 628us/step - loss: 0.3590 - accuracy: 0.8462 - recall: 0.5323 - precision: 0.7274\n",
      "Epoch 8/150\n",
      "820/820 [==============================] - 1s 637us/step - loss: 0.3574 - accuracy: 0.8498 - recall: 0.5354 - precision: 0.7408\n",
      "Epoch 9/150\n",
      "820/820 [==============================] - 1s 629us/step - loss: 0.3544 - accuracy: 0.8496 - recall: 0.5360 - precision: 0.7400\n",
      "Epoch 10/150\n",
      "820/820 [==============================] - 1s 637us/step - loss: 0.3539 - accuracy: 0.8510 - recall: 0.5413 - precision: 0.7424\n",
      "Epoch 11/150\n",
      "820/820 [==============================] - 1s 630us/step - loss: 0.3515 - accuracy: 0.8509 - recall: 0.5476 - precision: 0.7377\n",
      "Epoch 12/150\n",
      "820/820 [==============================] - 1s 632us/step - loss: 0.3511 - accuracy: 0.8527 - recall: 0.5492 - precision: 0.7446\n",
      "Epoch 13/150\n",
      "820/820 [==============================] - 1s 630us/step - loss: 0.3492 - accuracy: 0.8517 - recall: 0.5460 - precision: 0.7424\n",
      "Epoch 14/150\n",
      "820/820 [==============================] - 1s 633us/step - loss: 0.3481 - accuracy: 0.8516 - recall: 0.5455 - precision: 0.7423\n",
      "Epoch 15/150\n",
      "820/820 [==============================] - 1s 634us/step - loss: 0.3476 - accuracy: 0.8532 - recall: 0.5450 - precision: 0.7496\n",
      "Epoch 16/150\n",
      "820/820 [==============================] - 1s 631us/step - loss: 0.3467 - accuracy: 0.8534 - recall: 0.5540 - precision: 0.7447\n",
      "Epoch 17/150\n",
      "820/820 [==============================] - 1s 637us/step - loss: 0.3454 - accuracy: 0.8573 - recall: 0.5529 - precision: 0.7628\n",
      "Epoch 18/150\n",
      "820/820 [==============================] - 1s 632us/step - loss: 0.3447 - accuracy: 0.8549 - recall: 0.5534 - precision: 0.7514\n",
      "Epoch 19/150\n",
      "820/820 [==============================] - 1s 633us/step - loss: 0.3448 - accuracy: 0.8570 - recall: 0.5550 - precision: 0.7596\n",
      "Epoch 20/150\n",
      "820/820 [==============================] - 1s 634us/step - loss: 0.3434 - accuracy: 0.8571 - recall: 0.5603 - precision: 0.7564\n",
      "Epoch 21/150\n",
      "820/820 [==============================] - 1s 632us/step - loss: 0.3424 - accuracy: 0.8552 - recall: 0.5476 - precision: 0.7571\n",
      "Epoch 22/150\n",
      "820/820 [==============================] - 1s 646us/step - loss: 0.3419 - accuracy: 0.8543 - recall: 0.5545 - precision: 0.7480\n",
      "Epoch 23/150\n",
      "820/820 [==============================] - 1s 637us/step - loss: 0.3406 - accuracy: 0.8566 - recall: 0.5550 - precision: 0.7579\n",
      "Epoch 24/150\n",
      "820/820 [==============================] - 1s 633us/step - loss: 0.3408 - accuracy: 0.8567 - recall: 0.5635 - precision: 0.7527\n",
      "Epoch 25/150\n",
      "820/820 [==============================] - 1s 637us/step - loss: 0.3397 - accuracy: 0.8566 - recall: 0.5556 - precision: 0.7576\n",
      "Epoch 26/150\n",
      "820/820 [==============================] - 1s 631us/step - loss: 0.3391 - accuracy: 0.8579 - recall: 0.5646 - precision: 0.7573\n",
      "Epoch 27/150\n",
      "820/820 [==============================] - 1s 638us/step - loss: 0.3390 - accuracy: 0.8568 - recall: 0.5577 - precision: 0.7572\n",
      "Epoch 28/150\n",
      "820/820 [==============================] - 1s 639us/step - loss: 0.3394 - accuracy: 0.8568 - recall: 0.5587 - precision: 0.7564\n",
      "Epoch 29/150\n",
      "820/820 [==============================] - 1s 640us/step - loss: 0.3387 - accuracy: 0.8563 - recall: 0.5556 - precision: 0.7565\n",
      "Epoch 30/150\n",
      "820/820 [==============================] - 1s 656us/step - loss: 0.3373 - accuracy: 0.8593 - recall: 0.5624 - precision: 0.7647\n",
      "Epoch 31/150\n",
      "820/820 [==============================] - 1s 657us/step - loss: 0.3368 - accuracy: 0.8563 - recall: 0.5571 - precision: 0.7554\n",
      "Epoch 32/150\n",
      "820/820 [==============================] - 1s 653us/step - loss: 0.3364 - accuracy: 0.8578 - recall: 0.5603 - precision: 0.7597\n",
      "Epoch 33/150\n",
      "820/820 [==============================] - 1s 655us/step - loss: 0.3360 - accuracy: 0.8607 - recall: 0.5688 - precision: 0.7668\n",
      "Epoch 34/150\n",
      "820/820 [==============================] - 1s 660us/step - loss: 0.3361 - accuracy: 0.8589 - recall: 0.5598 - precision: 0.7650\n",
      "Epoch 35/150\n",
      "820/820 [==============================] - 1s 647us/step - loss: 0.3356 - accuracy: 0.8583 - recall: 0.5619 - precision: 0.7607\n",
      "Epoch 36/150\n",
      "820/820 [==============================] - 1s 647us/step - loss: 0.3341 - accuracy: 0.8579 - recall: 0.5624 - precision: 0.7587\n",
      "Epoch 37/150\n",
      "820/820 [==============================] - 1s 644us/step - loss: 0.3340 - accuracy: 0.8610 - recall: 0.5688 - precision: 0.7679\n",
      "Epoch 38/150\n",
      "820/820 [==============================] - 1s 642us/step - loss: 0.3342 - accuracy: 0.8593 - recall: 0.5651 - precision: 0.7629\n",
      "Epoch 39/150\n",
      "820/820 [==============================] - 1s 665us/step - loss: 0.3330 - accuracy: 0.8580 - recall: 0.5608 - precision: 0.7604\n",
      "Epoch 40/150\n",
      "820/820 [==============================] - 1s 654us/step - loss: 0.3329 - accuracy: 0.8601 - recall: 0.5741 - precision: 0.7603\n",
      "Epoch 41/150\n",
      "820/820 [==============================] - 1s 629us/step - loss: 0.3339 - accuracy: 0.8587 - recall: 0.5677 - precision: 0.7583\n",
      "Epoch 42/150\n",
      "820/820 [==============================] - 1s 630us/step - loss: 0.3327 - accuracy: 0.8600 - recall: 0.5693 - precision: 0.7631\n",
      "Epoch 43/150\n",
      "820/820 [==============================] - 1s 637us/step - loss: 0.3320 - accuracy: 0.8607 - recall: 0.5741 - precision: 0.7630\n",
      "Epoch 44/150\n",
      "820/820 [==============================] - 1s 633us/step - loss: 0.3315 - accuracy: 0.8587 - recall: 0.5619 - precision: 0.7624\n",
      "Epoch 45/150\n",
      "820/820 [==============================] - 1s 631us/step - loss: 0.3317 - accuracy: 0.8616 - recall: 0.5746 - precision: 0.7664\n",
      "Epoch 46/150\n",
      "820/820 [==============================] - 1s 634us/step - loss: 0.3308 - accuracy: 0.8604 - recall: 0.5688 - precision: 0.7651\n",
      "Epoch 47/150\n",
      "820/820 [==============================] - 1s 632us/step - loss: 0.3311 - accuracy: 0.8621 - recall: 0.5714 - precision: 0.7709\n",
      "Epoch 48/150\n",
      "820/820 [==============================] - 1s 632us/step - loss: 0.3313 - accuracy: 0.8606 - recall: 0.5725 - precision: 0.7636\n",
      "Epoch 49/150\n",
      "820/820 [==============================] - 1s 634us/step - loss: 0.3295 - accuracy: 0.8599 - recall: 0.5667 - precision: 0.7645\n",
      "Epoch 50/150\n",
      "820/820 [==============================] - 1s 633us/step - loss: 0.3295 - accuracy: 0.8618 - recall: 0.5741 - precision: 0.7679\n",
      "Epoch 51/150\n",
      "820/820 [==============================] - 1s 669us/step - loss: 0.3291 - accuracy: 0.8582 - recall: 0.5735 - precision: 0.7523\n",
      "Epoch 52/150\n",
      "820/820 [==============================] - ETA: 0s - loss: 0.3257 - accuracy: 0.8635 - recall: 0.5730 - precision: 0.769 - 1s 675us/step - loss: 0.3309 - accuracy: 0.8607 - recall: 0.5735 - precision: 0.7634\n",
      "Epoch 53/150\n",
      "820/820 [==============================] - 1s 674us/step - loss: 0.3284 - accuracy: 0.8632 - recall: 0.5794 - precision: 0.7700\n",
      "Epoch 54/150\n",
      "820/820 [==============================] - 1s 672us/step - loss: 0.3291 - accuracy: 0.8616 - recall: 0.5746 - precision: 0.7664\n",
      "Epoch 55/150\n",
      "820/820 [==============================] - 1s 671us/step - loss: 0.3295 - accuracy: 0.8622 - recall: 0.5788 - precision: 0.7661\n",
      "Epoch 56/150\n",
      "820/820 [==============================] - 1s 678us/step - loss: 0.3294 - accuracy: 0.8606 - recall: 0.5741 - precision: 0.7625\n",
      "Epoch 57/150\n",
      "820/820 [==============================] - 1s 672us/step - loss: 0.3285 - accuracy: 0.8609 - recall: 0.5741 - precision: 0.7635\n",
      "Epoch 58/150\n",
      "820/820 [==============================] - 1s 673us/step - loss: 0.3277 - accuracy: 0.8622 - recall: 0.5693 - precision: 0.7730\n",
      "Epoch 59/150\n",
      "820/820 [==============================] - 1s 669us/step - loss: 0.3286 - accuracy: 0.8621 - recall: 0.5725 - precision: 0.7701\n",
      "Epoch 60/150\n",
      "820/820 [==============================] - 1s 669us/step - loss: 0.3276 - accuracy: 0.8604 - recall: 0.5672 - precision: 0.7663\n",
      "Epoch 61/150\n",
      "820/820 [==============================] - 1s 679us/step - loss: 0.3271 - accuracy: 0.8617 - recall: 0.5735 - precision: 0.7677\n",
      "Epoch 62/150\n",
      "820/820 [==============================] - 1s 670us/step - loss: 0.3272 - accuracy: 0.8605 - recall: 0.5730 - precision: 0.7627\n",
      "Epoch 63/150\n",
      "820/820 [==============================] - 1s 669us/step - loss: 0.3262 - accuracy: 0.8624 - recall: 0.5730 - precision: 0.7714\n",
      "Epoch 64/150\n",
      "820/820 [==============================] - 1s 652us/step - loss: 0.3272 - accuracy: 0.8604 - recall: 0.5720 - precision: 0.7629\n",
      "Epoch 65/150\n",
      "820/820 [==============================] - 1s 626us/step - loss: 0.3261 - accuracy: 0.8600 - recall: 0.5762 - precision: 0.7584\n",
      "Epoch 66/150\n",
      "820/820 [==============================] - 1s 627us/step - loss: 0.3256 - accuracy: 0.8626 - recall: 0.5794 - precision: 0.7673\n",
      "Epoch 67/150\n",
      "820/820 [==============================] - 1s 652us/step - loss: 0.3266 - accuracy: 0.8615 - recall: 0.5794 - precision: 0.7625\n",
      "Epoch 68/150\n",
      "820/820 [==============================] - 1s 649us/step - loss: 0.3252 - accuracy: 0.8620 - recall: 0.5804 - precision: 0.7639\n",
      "Epoch 69/150\n",
      "820/820 [==============================] - 1s 649us/step - loss: 0.3257 - accuracy: 0.8633 - recall: 0.5757 - precision: 0.7733\n",
      "Epoch 70/150\n",
      "820/820 [==============================] - 1s 651us/step - loss: 0.3250 - accuracy: 0.8621 - recall: 0.5815 - precision: 0.7637\n",
      "Epoch 71/150\n",
      "820/820 [==============================] - 1s 646us/step - loss: 0.3249 - accuracy: 0.8633 - recall: 0.5810 - precision: 0.7694\n",
      "Epoch 72/150\n",
      "820/820 [==============================] - 1s 646us/step - loss: 0.3255 - accuracy: 0.8628 - recall: 0.5804 - precision: 0.7677\n",
      "Epoch 73/150\n",
      "820/820 [==============================] - 1s 649us/step - loss: 0.3246 - accuracy: 0.8634 - recall: 0.5757 - precision: 0.7738\n",
      "Epoch 74/150\n",
      "820/820 [==============================] - 1s 648us/step - loss: 0.3256 - accuracy: 0.8615 - recall: 0.5735 - precision: 0.7666\n",
      "Epoch 75/150\n",
      "820/820 [==============================] - 1s 649us/step - loss: 0.3242 - accuracy: 0.8637 - recall: 0.5841 - precision: 0.7688\n",
      "Epoch 76/150\n",
      "820/820 [==============================] - 1s 652us/step - loss: 0.3246 - accuracy: 0.8611 - recall: 0.5714 - precision: 0.7665\n",
      "Epoch 77/150\n",
      "820/820 [==============================] - 1s 650us/step - loss: 0.3246 - accuracy: 0.8615 - recall: 0.5794 - precision: 0.7625\n",
      "Epoch 78/150\n",
      "820/820 [==============================] - 1s 648us/step - loss: 0.3232 - accuracy: 0.8632 - recall: 0.5841 - precision: 0.7667\n",
      "Epoch 79/150\n",
      "820/820 [==============================] - 1s 651us/step - loss: 0.3235 - accuracy: 0.8622 - recall: 0.5767 - precision: 0.7676\n",
      "Epoch 80/150\n",
      "820/820 [==============================] - 1s 654us/step - loss: 0.3229 - accuracy: 0.8620 - recall: 0.5799 - precision: 0.7643\n",
      "Epoch 81/150\n",
      "820/820 [==============================] - 1s 647us/step - loss: 0.3235 - accuracy: 0.8629 - recall: 0.5767 - precision: 0.7709\n",
      "Epoch 82/150\n",
      "820/820 [==============================] - 1s 648us/step - loss: 0.3222 - accuracy: 0.8629 - recall: 0.5825 - precision: 0.7667\n",
      "Epoch 83/150\n",
      "820/820 [==============================] - 1s 648us/step - loss: 0.3220 - accuracy: 0.8632 - recall: 0.5815 - precision: 0.7685\n",
      "Epoch 84/150\n",
      "820/820 [==============================] - 1s 649us/step - loss: 0.3226 - accuracy: 0.8629 - recall: 0.5841 - precision: 0.7656\n",
      "Epoch 85/150\n",
      "820/820 [==============================] - 1s 646us/step - loss: 0.3217 - accuracy: 0.8616 - recall: 0.5725 - precision: 0.7679\n",
      "Epoch 86/150\n",
      "820/820 [==============================] - 1s 667us/step - loss: 0.3217 - accuracy: 0.8645 - recall: 0.5857 - precision: 0.7714\n",
      "Epoch 87/150\n",
      "820/820 [==============================] - 1s 845us/step - loss: 0.3227 - accuracy: 0.8633 - recall: 0.5772 - precision: 0.7721\n",
      "Epoch 88/150\n",
      "820/820 [==============================] - 1s 835us/step - loss: 0.3219 - accuracy: 0.8662 - recall: 0.5905 - precision: 0.7755\n",
      "Epoch 89/150\n",
      "820/820 [==============================] - 1s 834us/step - loss: 0.3218 - accuracy: 0.8616 - recall: 0.5730 - precision: 0.7675\n",
      "Epoch 90/150\n",
      "820/820 [==============================] - 1s 837us/step - loss: 0.3213 - accuracy: 0.8648 - recall: 0.5884 - precision: 0.7706\n",
      "Epoch 91/150\n",
      "820/820 [==============================] - 1s 833us/step - loss: 0.3214 - accuracy: 0.8628 - recall: 0.5767 - precision: 0.7703\n",
      "Epoch 92/150\n",
      "820/820 [==============================] - 1s 728us/step - loss: 0.3217 - accuracy: 0.8638 - recall: 0.5825 - precision: 0.7705\n",
      "Epoch 93/150\n",
      "820/820 [==============================] - 1s 684us/step - loss: 0.3197 - accuracy: 0.8638 - recall: 0.5857 - precision: 0.7682\n",
      "Epoch 94/150\n",
      "820/820 [==============================] - 1s 624us/step - loss: 0.3215 - accuracy: 0.8637 - recall: 0.5825 - precision: 0.7699\n",
      "Epoch 95/150\n",
      "820/820 [==============================] - 1s 621us/step - loss: 0.3208 - accuracy: 0.8649 - recall: 0.5889 - precision: 0.7708\n",
      "Epoch 96/150\n",
      "820/820 [==============================] - 1s 628us/step - loss: 0.3188 - accuracy: 0.8665 - recall: 0.5899 - precision: 0.7770\n",
      "Epoch 97/150\n",
      "820/820 [==============================] - 1s 631us/step - loss: 0.3214 - accuracy: 0.8637 - recall: 0.5820 - precision: 0.7703\n",
      "Epoch 98/150\n",
      "820/820 [==============================] - 1s 632us/step - loss: 0.3200 - accuracy: 0.8627 - recall: 0.5820 - precision: 0.7660\n",
      "Epoch 99/150\n",
      "820/820 [==============================] - 1s 631us/step - loss: 0.3205 - accuracy: 0.8630 - recall: 0.5873 - precision: 0.7639\n",
      "Epoch 100/150\n",
      "820/820 [==============================] - 1s 623us/step - loss: 0.3195 - accuracy: 0.8650 - recall: 0.5878 - precision: 0.7721\n",
      "Epoch 101/150\n",
      "820/820 [==============================] - 1s 629us/step - loss: 0.3189 - accuracy: 0.8638 - recall: 0.5751 - precision: 0.7759\n",
      "Epoch 102/150\n",
      "820/820 [==============================] - 1s 631us/step - loss: 0.3198 - accuracy: 0.8637 - recall: 0.5810 - precision: 0.7711\n",
      "Epoch 103/150\n",
      "820/820 [==============================] - 1s 647us/step - loss: 0.3199 - accuracy: 0.8650 - recall: 0.5847 - precision: 0.7744\n",
      "Epoch 104/150\n",
      "820/820 [==============================] - 1s 629us/step - loss: 0.3185 - accuracy: 0.8649 - recall: 0.5825 - precision: 0.7754\n",
      "Epoch 105/150\n",
      "820/820 [==============================] - 1s 631us/step - loss: 0.3196 - accuracy: 0.8665 - recall: 0.5884 - precision: 0.7782\n",
      "Epoch 106/150\n",
      "820/820 [==============================] - 1s 626us/step - loss: 0.3188 - accuracy: 0.8649 - recall: 0.5873 - precision: 0.7719\n",
      "Epoch 107/150\n",
      "820/820 [==============================] - 1s 635us/step - loss: 0.3190 - accuracy: 0.8648 - recall: 0.5868 - precision: 0.7717\n",
      "Epoch 108/150\n",
      "820/820 [==============================] - 1s 626us/step - loss: 0.3184 - accuracy: 0.8650 - recall: 0.5804 - precision: 0.7775\n",
      "Epoch 109/150\n",
      "820/820 [==============================] - 1s 623us/step - loss: 0.3184 - accuracy: 0.8668 - recall: 0.5915 - precision: 0.7775\n",
      "Epoch 110/150\n",
      "820/820 [==============================] - 1s 626us/step - loss: 0.3180 - accuracy: 0.8668 - recall: 0.5905 - precision: 0.7782\n",
      "Epoch 111/150\n",
      "820/820 [==============================] - 1s 625us/step - loss: 0.3177 - accuracy: 0.8648 - recall: 0.5825 - precision: 0.7748\n",
      "Epoch 112/150\n",
      "820/820 [==============================] - 1s 623us/step - loss: 0.3164 - accuracy: 0.8654 - recall: 0.5873 - precision: 0.7741\n",
      "Epoch 113/150\n",
      "820/820 [==============================] - 1s 639us/step - loss: 0.3163 - accuracy: 0.8654 - recall: 0.5783 - precision: 0.7807\n",
      "Epoch 114/150\n",
      "820/820 [==============================] - 1s 647us/step - loss: 0.3175 - accuracy: 0.8670 - recall: 0.5868 - precision: 0.7815\n",
      "Epoch 115/150\n",
      "820/820 [==============================] - 1s 646us/step - loss: 0.3171 - accuracy: 0.8687 - recall: 0.5963 - precision: 0.7821\n",
      "Epoch 116/150\n"
     ]
    },
    {
     "name": "stdout",
     "output_type": "stream",
     "text": [
      "820/820 [==============================] - 1s 649us/step - loss: 0.3173 - accuracy: 0.8654 - recall: 0.5841 - precision: 0.7764\n",
      "Epoch 117/150\n",
      "820/820 [==============================] - 1s 645us/step - loss: 0.3164 - accuracy: 0.8672 - recall: 0.5852 - precision: 0.7838\n",
      "Epoch 118/150\n",
      "820/820 [==============================] - 1s 652us/step - loss: 0.3167 - accuracy: 0.8665 - recall: 0.5852 - precision: 0.7805\n",
      "Epoch 119/150\n",
      "820/820 [==============================] - 1s 649us/step - loss: 0.3156 - accuracy: 0.8667 - recall: 0.5942 - precision: 0.7750\n",
      "Epoch 120/150\n",
      "820/820 [==============================] - 1s 811us/step - loss: 0.3165 - accuracy: 0.8641 - recall: 0.5794 - precision: 0.7744\n",
      "Epoch 121/150\n",
      "820/820 [==============================] - 1s 703us/step - loss: 0.3167 - accuracy: 0.8650 - recall: 0.5862 - precision: 0.7732\n",
      "Epoch 122/150\n",
      "820/820 [==============================] - 1s 707us/step - loss: 0.3154 - accuracy: 0.8662 - recall: 0.5931 - precision: 0.7736\n",
      "Epoch 123/150\n",
      "820/820 [==============================] - 1s 698us/step - loss: 0.3153 - accuracy: 0.8691 - recall: 0.5868 - precision: 0.7916\n",
      "Epoch 124/150\n",
      "820/820 [==============================] - 1s 686us/step - loss: 0.3155 - accuracy: 0.8678 - recall: 0.5942 - precision: 0.7799\n",
      "Epoch 125/150\n",
      "820/820 [==============================] - 1s 649us/step - loss: 0.3157 - accuracy: 0.8678 - recall: 0.5915 - precision: 0.7818\n",
      "Epoch 126/150\n",
      "820/820 [==============================] - 1s 647us/step - loss: 0.3148 - accuracy: 0.8678 - recall: 0.5942 - precision: 0.7799\n",
      "Epoch 127/150\n",
      "820/820 [==============================] - 1s 654us/step - loss: 0.3157 - accuracy: 0.8655 - recall: 0.5831 - precision: 0.7777\n",
      "Epoch 128/150\n",
      "820/820 [==============================] - 1s 679us/step - loss: 0.3142 - accuracy: 0.8646 - recall: 0.5868 - precision: 0.7712\n",
      "Epoch 129/150\n",
      "820/820 [==============================] - 1s 631us/step - loss: 0.3153 - accuracy: 0.8671 - recall: 0.5852 - precision: 0.7833\n",
      "Epoch 130/150\n",
      "820/820 [==============================] - 1s 673us/step - loss: 0.3149 - accuracy: 0.8668 - recall: 0.5894 - precision: 0.7790\n",
      "Epoch 131/150\n",
      "820/820 [==============================] - 1s 700us/step - loss: 0.3153 - accuracy: 0.8652 - recall: 0.5868 - precision: 0.7739\n",
      "Epoch 132/150\n",
      "820/820 [==============================] - 1s 731us/step - loss: 0.3143 - accuracy: 0.8680 - recall: 0.5921 - precision: 0.7825\n",
      "Epoch 133/150\n",
      "820/820 [==============================] - 1s 721us/step - loss: 0.3136 - accuracy: 0.8661 - recall: 0.5915 - precision: 0.7742\n",
      "Epoch 134/150\n",
      "820/820 [==============================] - 1s 696us/step - loss: 0.3152 - accuracy: 0.8672 - recall: 0.5878 - precision: 0.7818\n",
      "Epoch 135/150\n",
      "820/820 [==============================] - 1s 695us/step - loss: 0.3136 - accuracy: 0.8665 - recall: 0.5915 - precision: 0.7759\n",
      "Epoch 136/150\n",
      "820/820 [==============================] - 1s 695us/step - loss: 0.3146 - accuracy: 0.8671 - recall: 0.5910 - precision: 0.7789\n",
      "Epoch 137/150\n",
      "820/820 [==============================] - 1s 697us/step - loss: 0.3136 - accuracy: 0.8685 - recall: 0.5968 - precision: 0.7812\n",
      "Epoch 138/150\n",
      "820/820 [==============================] - 1s 691us/step - loss: 0.3141 - accuracy: 0.8665 - recall: 0.5905 - precision: 0.7766\n",
      "Epoch 139/150\n",
      "820/820 [==============================] - 1s 699us/step - loss: 0.3156 - accuracy: 0.8673 - recall: 0.5952 - precision: 0.7769\n",
      "Epoch 140/150\n",
      "820/820 [==============================] - 1s 714us/step - loss: 0.3126 - accuracy: 0.8649 - recall: 0.5963 - precision: 0.7656\n",
      "Epoch 141/150\n",
      "820/820 [==============================] - 1s 728us/step - loss: 0.3132 - accuracy: 0.8673 - recall: 0.5905 - precision: 0.7804\n",
      "Epoch 142/150\n",
      "820/820 [==============================] - 1s 706us/step - loss: 0.3136 - accuracy: 0.8662 - recall: 0.5937 - precision: 0.7733\n",
      "Epoch 143/150\n",
      "820/820 [==============================] - 1s 717us/step - loss: 0.3149 - accuracy: 0.8657 - recall: 0.5952 - precision: 0.7700\n",
      "Epoch 144/150\n",
      "820/820 [==============================] - 1s 718us/step - loss: 0.3130 - accuracy: 0.8662 - recall: 0.5889 - precision: 0.7767\n",
      "Epoch 145/150\n",
      "820/820 [==============================] - 1s 712us/step - loss: 0.3125 - accuracy: 0.8673 - recall: 0.5889 - precision: 0.7816\n",
      "Epoch 146/150\n",
      "820/820 [==============================] - 1s 715us/step - loss: 0.3122 - accuracy: 0.8695 - recall: 0.5958 - precision: 0.7863\n",
      "Epoch 147/150\n",
      "820/820 [==============================] - 1s 716us/step - loss: 0.3125 - accuracy: 0.8655 - recall: 0.5894 - precision: 0.7731\n",
      "Epoch 148/150\n",
      "820/820 [==============================] - 1s 718us/step - loss: 0.3121 - accuracy: 0.8674 - recall: 0.5952 - precision: 0.7775\n",
      "Epoch 149/150\n",
      "820/820 [==============================] - 1s 713us/step - loss: 0.3126 - accuracy: 0.8682 - recall: 0.5937 - precision: 0.7819\n",
      "Epoch 150/150\n",
      "820/820 [==============================] - 1s 716us/step - loss: 0.3125 - accuracy: 0.8678 - recall: 0.5937 - precision: 0.7803\n"
     ]
    }
   ],
   "source": [
    "# fit the keras model on the dataset\n",
    "X_train = np.asarray(X_train).astype(np.float32)\n",
    "model_fitted = model.fit(X_train, y_train, epochs=150, batch_size=10)"
   ]
  },
  {
   "cell_type": "markdown",
   "metadata": {},
   "source": [
    "Métricas obtenidas en el entrenamiento:"
   ]
  },
  {
   "cell_type": "code",
   "execution_count": 14,
   "metadata": {},
   "outputs": [
    {
     "name": "stdout",
     "output_type": "stream",
     "text": [
      "257/257 [==============================] - 0s 637us/step - loss: 0.3064 - accuracy: 0.8702 - recall: 0.5921 - precision: 0.7925\n",
      "Accuracy: 87.02\n",
      "Recall: 59.21\n",
      "Precision: 79.25\n"
     ]
    }
   ],
   "source": [
    "_, accuracy, recall, precision = model.evaluate(X_train, y_train)\n",
    "print('Accuracy: %.2f' % (accuracy*100))\n",
    "print('Recall: %.2f' % (recall*100))\n",
    "print('Precision: %.2f' % (precision*100))"
   ]
  },
  {
   "cell_type": "code",
   "execution_count": 15,
   "metadata": {},
   "outputs": [
    {
     "data": {
      "image/png": "[encoded data removed]",
      "text/plain": [
       "<Figure size 864x504 with 1 Axes>"
      ]
     },
     "metadata": {
      "needs_background": "light"
     },
     "output_type": "display_data"
    }
   ],
   "source": [
    "plt.figure(figsize=(12,7))\n",
    "plt.title('Evloución de las métricas según se entrena la red neuronal con configuración 1')\n",
    "plt.plot(model_fitted.history['accuracy'], label='Accuracy_train')\n",
    "plt.plot(model_fitted.history['precision'], label='Precision_train')\n",
    "plt.plot(model_fitted.history['recall'], label='Recall_train')\n",
    "plt.legend()\n",
    "plt.show()"
   ]
  },
  {
   "cell_type": "markdown",
   "metadata": {},
   "source": [
    "### **Evaluación con el dataset Test**"
   ]
  },
  {
   "cell_type": "markdown",
   "metadata": {},
   "source": [
    "Observamos que se obtiene un buen accuracy y precision pero el valor del recall es mejorable."
   ]
  },
  {
   "cell_type": "code",
   "execution_count": 16,
   "metadata": {},
   "outputs": [
    {
     "name": "stdout",
     "output_type": "stream",
     "text": [
      "Accuracy: 84.82\n",
      "Recall: 52.63\n",
      "Precision: 71.86\n"
     ]
    }
   ],
   "source": [
    "loss, accuracy_test, recall_test, precision_test = model.evaluate(X_test, y_test, verbose=0)\n",
    "print('Accuracy: %.2f' % (accuracy_test*100))\n",
    "print('Recall: %.2f' % (recall_test*100))\n",
    "print('Precision: %.2f' % (precision_test*100))\n",
    "\n",
    "# estandarizando: Accuracy: 84.43, Recall: 52.14 (53 con más variables)"
   ]
  },
  {
   "cell_type": "markdown",
   "metadata": {},
   "source": [
    "## 3.2 Configuración 2"
   ]
  },
  {
   "cell_type": "markdown",
   "metadata": {},
   "source": [
    "En segundo lugar, modificamos un poco la configuración de la red neuronal, simplificándola. Hemos probado otras configuraciones añadiendo más capas o probando otras funciones de activación pero no mejora significativamente. Hemos decidido empezar con una red de tres capas:\n",
    "\n",
    "  - Capa inicial: número de variables entrantes y las neuronas(15). Función de activación Relu.\n",
    "  - Capa final: una única neurona y función de activación sigmoid ya que la salida de nuestro modelo tiene que ser binaria."
   ]
  },
  {
   "cell_type": "markdown",
   "metadata": {},
   "source": [
    "### Configuración de la red"
   ]
  },
  {
   "cell_type": "code",
   "execution_count": 8,
   "metadata": {},
   "outputs": [],
   "source": [
    "model2 = Sequential()\n",
    "model2.add(Dense(15, input_dim=25, activation='relu'))\n",
    "model2.add(Dense(1, activation='sigmoid'))"
   ]
  },
  {
   "cell_type": "code",
   "execution_count": 9,
   "metadata": {},
   "outputs": [
    {
     "name": "stdout",
     "output_type": "stream",
     "text": [
      "Model: \"sequential\"\n",
      "_________________________________________________________________\n",
      "Layer (type)                 Output Shape              Param #   \n",
      "=================================================================\n",
      "dense (Dense)                (None, 15)                390       \n",
      "_________________________________________________________________\n",
      "dense_1 (Dense)              (None, 1)                 16        \n",
      "=================================================================\n",
      "Total params: 406\n",
      "Trainable params: 406\n",
      "Non-trainable params: 0\n",
      "_________________________________________________________________\n"
     ]
    }
   ],
   "source": [
    "model2.summary()"
   ]
  },
  {
   "cell_type": "code",
   "execution_count": 10,
   "metadata": {},
   "outputs": [],
   "source": [
    "recall = tf.keras.metrics.Recall()\n",
    "precision = tf.keras.metrics.Precision()"
   ]
  },
  {
   "cell_type": "code",
   "execution_count": 11,
   "metadata": {},
   "outputs": [],
   "source": [
    "model2.compile(loss='binary_crossentropy', optimizer='adam', metrics=['accuracy',recall, precision])"
   ]
  },
  {
   "cell_type": "markdown",
   "metadata": {},
   "source": [
    "### Entrenamiento"
   ]
  },
  {
   "cell_type": "code",
   "execution_count": 12,
   "metadata": {},
   "outputs": [
    {
     "name": "stdout",
     "output_type": "stream",
     "text": [
      "Epoch 1/150\n",
      "410/410 [==============================] - 0s 641us/step - loss: 0.4416 - accuracy: 0.8033 - recall: 0.4624 - precision: 0.5942\n",
      "Epoch 2/150\n",
      "410/410 [==============================] - 0s 652us/step - loss: 0.3809 - accuracy: 0.8378 - recall: 0.5011 - precision: 0.7099\n",
      "Epoch 3/150\n",
      "410/410 [==============================] - 0s 662us/step - loss: 0.3721 - accuracy: 0.8444 - recall: 0.5122 - precision: 0.7322\n",
      "Epoch 4/150\n",
      "410/410 [==============================] - 0s 645us/step - loss: 0.3679 - accuracy: 0.8468 - recall: 0.5148 - precision: 0.7416\n",
      "Epoch 5/150\n",
      "410/410 [==============================] - 0s 638us/step - loss: 0.3643 - accuracy: 0.8476 - recall: 0.5159 - precision: 0.7443\n",
      "Epoch 6/150\n",
      "410/410 [==============================] - 0s 616us/step - loss: 0.3614 - accuracy: 0.8494 - recall: 0.5238 - precision: 0.7472\n",
      "Epoch 7/150\n",
      "410/410 [==============================] - 0s 623us/step - loss: 0.3588 - accuracy: 0.8495 - recall: 0.5291 - precision: 0.7440\n",
      "Epoch 8/150\n",
      "410/410 [==============================] - 0s 632us/step - loss: 0.3571 - accuracy: 0.8477 - recall: 0.5138 - precision: 0.7463\n",
      "Epoch 9/150\n",
      "410/410 [==============================] - 0s 637us/step - loss: 0.3543 - accuracy: 0.8507 - recall: 0.5265 - precision: 0.7515\n",
      "Epoch 10/150\n",
      "410/410 [==============================] - 0s 640us/step - loss: 0.3528 - accuracy: 0.8507 - recall: 0.5275 - precision: 0.7508\n",
      "Epoch 11/150\n",
      "410/410 [==============================] - 0s 647us/step - loss: 0.3516 - accuracy: 0.8509 - recall: 0.5233 - precision: 0.7544\n",
      "Epoch 12/150\n",
      "410/410 [==============================] - 0s 661us/step - loss: 0.3499 - accuracy: 0.8523 - recall: 0.5349 - precision: 0.7528\n",
      "Epoch 13/150\n",
      "410/410 [==============================] - 0s 655us/step - loss: 0.3485 - accuracy: 0.8533 - recall: 0.5360 - precision: 0.7565\n",
      "Epoch 14/150\n",
      "410/410 [==============================] - 0s 657us/step - loss: 0.3473 - accuracy: 0.8539 - recall: 0.5333 - precision: 0.7613\n",
      "Epoch 15/150\n",
      "410/410 [==============================] - 0s 652us/step - loss: 0.3462 - accuracy: 0.8551 - recall: 0.5434 - precision: 0.7596\n",
      "Epoch 16/150\n",
      "410/410 [==============================] - 0s 634us/step - loss: 0.3460 - accuracy: 0.8507 - recall: 0.5307 - precision: 0.7485\n",
      "Epoch 17/150\n",
      "410/410 [==============================] - 0s 629us/step - loss: 0.3447 - accuracy: 0.8524 - recall: 0.5360 - precision: 0.7526\n",
      "Epoch 18/150\n",
      "410/410 [==============================] - 0s 637us/step - loss: 0.3434 - accuracy: 0.8534 - recall: 0.5439 - precision: 0.7515\n",
      "Epoch 19/150\n",
      "410/410 [==============================] - 0s 661us/step - loss: 0.3429 - accuracy: 0.8533 - recall: 0.5439 - precision: 0.7509\n",
      "Epoch 20/150\n",
      "410/410 [==============================] - 0s 655us/step - loss: 0.3419 - accuracy: 0.8543 - recall: 0.5392 - precision: 0.7587\n",
      "Epoch 21/150\n",
      "410/410 [==============================] - 0s 657us/step - loss: 0.3416 - accuracy: 0.8565 - recall: 0.5497 - precision: 0.7612\n",
      "Epoch 22/150\n",
      "410/410 [==============================] - 0s 648us/step - loss: 0.3406 - accuracy: 0.8549 - recall: 0.5439 - precision: 0.7581\n",
      "Epoch 23/150\n",
      "410/410 [==============================] - 0s 645us/step - loss: 0.3403 - accuracy: 0.8566 - recall: 0.5450 - precision: 0.7652\n",
      "Epoch 24/150\n",
      "410/410 [==============================] - 0s 667us/step - loss: 0.3396 - accuracy: 0.8554 - recall: 0.5466 - precision: 0.7584\n",
      "Epoch 25/150\n",
      "410/410 [==============================] - 0s 644us/step - loss: 0.3390 - accuracy: 0.8574 - recall: 0.5571 - precision: 0.7603\n",
      "Epoch 26/150\n",
      "410/410 [==============================] - 0s 661us/step - loss: 0.3392 - accuracy: 0.8554 - recall: 0.5444 - precision: 0.7600\n",
      "Epoch 27/150\n",
      "410/410 [==============================] - 0s 657us/step - loss: 0.3382 - accuracy: 0.8545 - recall: 0.5466 - precision: 0.7546\n",
      "Epoch 28/150\n",
      "410/410 [==============================] - 0s 658us/step - loss: 0.3385 - accuracy: 0.8579 - recall: 0.5545 - precision: 0.7644\n",
      "Epoch 29/150\n",
      "410/410 [==============================] - 0s 658us/step - loss: 0.3369 - accuracy: 0.8574 - recall: 0.5529 - precision: 0.7633\n",
      "Epoch 30/150\n",
      "410/410 [==============================] - 0s 660us/step - loss: 0.3371 - accuracy: 0.8565 - recall: 0.5503 - precision: 0.7608\n",
      "Epoch 31/150\n",
      "410/410 [==============================] - 0s 659us/step - loss: 0.3364 - accuracy: 0.8577 - recall: 0.5603 - precision: 0.7591\n",
      "Epoch 32/150\n",
      "410/410 [==============================] - 0s 654us/step - loss: 0.3363 - accuracy: 0.8573 - recall: 0.5540 - precision: 0.7620\n",
      "Epoch 33/150\n",
      "410/410 [==============================] - 0s 654us/step - loss: 0.3361 - accuracy: 0.8588 - recall: 0.5571 - precision: 0.7664\n",
      "Epoch 34/150\n",
      "410/410 [==============================] - 0s 665us/step - loss: 0.3357 - accuracy: 0.8591 - recall: 0.5556 - precision: 0.7692\n",
      "Epoch 35/150\n",
      "410/410 [==============================] - 0s 654us/step - loss: 0.3351 - accuracy: 0.8584 - recall: 0.5614 - precision: 0.7617\n",
      "Epoch 36/150\n",
      "410/410 [==============================] - 0s 634us/step - loss: 0.3349 - accuracy: 0.8605 - recall: 0.5608 - precision: 0.7715\n",
      "Epoch 37/150\n",
      "410/410 [==============================] - 0s 619us/step - loss: 0.3347 - accuracy: 0.8576 - recall: 0.5540 - precision: 0.7631\n",
      "Epoch 38/150\n",
      "410/410 [==============================] - 0s 639us/step - loss: 0.3343 - accuracy: 0.8606 - recall: 0.5577 - precision: 0.7744\n",
      "Epoch 39/150\n",
      "410/410 [==============================] - 0s 646us/step - loss: 0.3347 - accuracy: 0.8584 - recall: 0.5561 - precision: 0.7655\n",
      "Epoch 40/150\n",
      "410/410 [==============================] - 0s 625us/step - loss: 0.3349 - accuracy: 0.8576 - recall: 0.5598 - precision: 0.7590\n",
      "Epoch 41/150\n",
      "410/410 [==============================] - 0s 640us/step - loss: 0.3333 - accuracy: 0.8595 - recall: 0.5550 - precision: 0.7713\n",
      "Epoch 42/150\n",
      "410/410 [==============================] - 0s 631us/step - loss: 0.3333 - accuracy: 0.8600 - recall: 0.5646 - precision: 0.7665\n",
      "Epoch 43/150\n",
      "410/410 [==============================] - 0s 646us/step - loss: 0.3322 - accuracy: 0.8611 - recall: 0.5635 - precision: 0.7723\n",
      "Epoch 44/150\n",
      "410/410 [==============================] - 0s 642us/step - loss: 0.3326 - accuracy: 0.8601 - recall: 0.5672 - precision: 0.7652\n",
      "Epoch 45/150\n",
      "410/410 [==============================] - 0s 642us/step - loss: 0.3326 - accuracy: 0.8596 - recall: 0.5646 - precision: 0.7649\n",
      "Epoch 46/150\n",
      "410/410 [==============================] - 0s 662us/step - loss: 0.3324 - accuracy: 0.8604 - recall: 0.5603 - precision: 0.7713\n",
      "Epoch 47/150\n",
      "410/410 [==============================] - 0s 648us/step - loss: 0.3318 - accuracy: 0.8591 - recall: 0.5635 - precision: 0.7634\n",
      "Epoch 48/150\n",
      "410/410 [==============================] - 0s 645us/step - loss: 0.3317 - accuracy: 0.8610 - recall: 0.5672 - precision: 0.7690\n",
      "Epoch 49/150\n",
      "410/410 [==============================] - 0s 640us/step - loss: 0.3311 - accuracy: 0.8613 - recall: 0.5693 - precision: 0.7691\n",
      "Epoch 50/150\n",
      "410/410 [==============================] - 0s 639us/step - loss: 0.3310 - accuracy: 0.8605 - recall: 0.5624 - precision: 0.7703\n",
      "Epoch 51/150\n",
      "410/410 [==============================] - 0s 632us/step - loss: 0.3316 - accuracy: 0.8598 - recall: 0.5608 - precision: 0.7681\n",
      "Epoch 52/150\n",
      "410/410 [==============================] - 0s 638us/step - loss: 0.3309 - accuracy: 0.8609 - recall: 0.5683 - precision: 0.7677\n",
      "Epoch 53/150\n",
      "410/410 [==============================] - 0s 656us/step - loss: 0.3301 - accuracy: 0.8604 - recall: 0.5704 - precision: 0.7640\n",
      "Epoch 54/150\n",
      "410/410 [==============================] - 0s 647us/step - loss: 0.3291 - accuracy: 0.8633 - recall: 0.5651 - precision: 0.7813\n",
      "Epoch 55/150\n",
      "410/410 [==============================] - 0s 643us/step - loss: 0.3303 - accuracy: 0.8616 - recall: 0.5714 - precision: 0.7687\n",
      "Epoch 56/150\n",
      "410/410 [==============================] - 0s 643us/step - loss: 0.3298 - accuracy: 0.8605 - recall: 0.5672 - precision: 0.7668\n",
      "Epoch 57/150\n",
      "410/410 [==============================] - 0s 646us/step - loss: 0.3298 - accuracy: 0.8596 - recall: 0.5593 - precision: 0.7687\n",
      "Epoch 58/150\n",
      "410/410 [==============================] - 0s 643us/step - loss: 0.3290 - accuracy: 0.8613 - recall: 0.5709 - precision: 0.7680\n",
      "Epoch 59/150\n",
      "410/410 [==============================] - 0s 641us/step - loss: 0.3293 - accuracy: 0.8626 - recall: 0.5720 - precision: 0.7727\n",
      "Epoch 60/150\n",
      "410/410 [==============================] - 0s 639us/step - loss: 0.3287 - accuracy: 0.8601 - recall: 0.5656 - precision: 0.7663\n",
      "Epoch 61/150\n",
      "410/410 [==============================] - 0s 646us/step - loss: 0.3286 - accuracy: 0.8609 - recall: 0.5651 - precision: 0.7700\n",
      "Epoch 62/150\n",
      "410/410 [==============================] - 0s 660us/step - loss: 0.3290 - accuracy: 0.8602 - recall: 0.5651 - precision: 0.7672\n",
      "Epoch 63/150\n",
      "410/410 [==============================] - 0s 645us/step - loss: 0.3283 - accuracy: 0.8627 - recall: 0.5704 - precision: 0.7744\n",
      "Epoch 64/150\n",
      "410/410 [==============================] - 0s 645us/step - loss: 0.3282 - accuracy: 0.8601 - recall: 0.5688 - precision: 0.7640\n",
      "Epoch 65/150\n",
      "410/410 [==============================] - 0s 648us/step - loss: 0.3290 - accuracy: 0.8612 - recall: 0.5672 - precision: 0.7701\n",
      "Epoch 66/150\n",
      "410/410 [==============================] - 0s 643us/step - loss: 0.3282 - accuracy: 0.8611 - recall: 0.5693 - precision: 0.7680\n",
      "Epoch 67/150\n",
      "410/410 [==============================] - 0s 665us/step - loss: 0.3280 - accuracy: 0.8624 - recall: 0.5677 - precision: 0.7753\n",
      "Epoch 68/150\n",
      "410/410 [==============================] - 0s 648us/step - loss: 0.3273 - accuracy: 0.8622 - recall: 0.5709 - precision: 0.7718\n",
      "Epoch 69/150\n",
      "410/410 [==============================] - 0s 638us/step - loss: 0.3280 - accuracy: 0.8616 - recall: 0.5688 - precision: 0.7706\n",
      "Epoch 70/150\n",
      "410/410 [==============================] - 0s 638us/step - loss: 0.3280 - accuracy: 0.8618 - recall: 0.5725 - precision: 0.7690\n",
      "Epoch 71/150\n",
      "410/410 [==============================] - 0s 636us/step - loss: 0.3273 - accuracy: 0.8615 - recall: 0.5704 - precision: 0.7689\n",
      "Epoch 72/150\n",
      "410/410 [==============================] - 0s 648us/step - loss: 0.3270 - accuracy: 0.8605 - recall: 0.5672 - precision: 0.7668\n",
      "Epoch 73/150\n",
      "410/410 [==============================] - 0s 645us/step - loss: 0.3276 - accuracy: 0.8624 - recall: 0.5688 - precision: 0.7745\n",
      "Epoch 74/150\n",
      "410/410 [==============================] - 0s 650us/step - loss: 0.3273 - accuracy: 0.8626 - recall: 0.5683 - precision: 0.7755\n",
      "Epoch 75/150\n",
      "410/410 [==============================] - 0s 640us/step - loss: 0.3259 - accuracy: 0.8629 - recall: 0.5672 - precision: 0.7779\n",
      "Epoch 76/150\n",
      "410/410 [==============================] - 0s 643us/step - loss: 0.3270 - accuracy: 0.8615 - recall: 0.5720 - precision: 0.7678\n",
      "Epoch 77/150\n",
      "410/410 [==============================] - 0s 645us/step - loss: 0.3271 - accuracy: 0.8630 - recall: 0.5730 - precision: 0.7741\n",
      "Epoch 78/150\n",
      "410/410 [==============================] - 0s 638us/step - loss: 0.3268 - accuracy: 0.8640 - recall: 0.5735 - precision: 0.7782\n",
      "Epoch 79/150\n",
      "410/410 [==============================] - 0s 642us/step - loss: 0.3265 - accuracy: 0.8610 - recall: 0.5741 - precision: 0.7641\n",
      "Epoch 80/150\n",
      "410/410 [==============================] - 0s 653us/step - loss: 0.3259 - accuracy: 0.8637 - recall: 0.5804 - precision: 0.7714\n",
      "Epoch 81/150\n",
      "410/410 [==============================] - 0s 648us/step - loss: 0.3261 - accuracy: 0.8615 - recall: 0.5640 - precision: 0.7736\n",
      "Epoch 82/150\n",
      "410/410 [==============================] - 0s 651us/step - loss: 0.3256 - accuracy: 0.8632 - recall: 0.5778 - precision: 0.7712\n",
      "Epoch 83/150\n",
      "410/410 [==============================] - 0s 661us/step - loss: 0.3254 - accuracy: 0.8645 - recall: 0.5772 - precision: 0.7776\n",
      "Epoch 84/150\n",
      "410/410 [==============================] - 0s 649us/step - loss: 0.3252 - accuracy: 0.8640 - recall: 0.5720 - precision: 0.7794\n",
      "Epoch 85/150\n",
      "410/410 [==============================] - 0s 767us/step - loss: 0.3254 - accuracy: 0.8641 - recall: 0.5767 - precision: 0.7764\n",
      "Epoch 86/150\n",
      "410/410 [==============================] - 0s 830us/step - loss: 0.3251 - accuracy: 0.8632 - recall: 0.5746 - precision: 0.7735\n",
      "Epoch 87/150\n",
      "410/410 [==============================] - 0s 828us/step - loss: 0.3259 - accuracy: 0.8628 - recall: 0.5767 - precision: 0.7703\n",
      "Epoch 88/150\n",
      "410/410 [==============================] - 0s 828us/step - loss: 0.3252 - accuracy: 0.8626 - recall: 0.5714 - precision: 0.7731\n",
      "Epoch 89/150\n",
      "410/410 [==============================] - 0s 830us/step - loss: 0.3244 - accuracy: 0.8635 - recall: 0.5725 - precision: 0.7767\n",
      "Epoch 90/150\n",
      "410/410 [==============================] - 0s 829us/step - loss: 0.3257 - accuracy: 0.8627 - recall: 0.5751 - precision: 0.7709\n",
      "Epoch 91/150\n",
      "410/410 [==============================] - 0s 643us/step - loss: 0.3247 - accuracy: 0.8627 - recall: 0.5693 - precision: 0.7752\n",
      "Epoch 92/150\n",
      "410/410 [==============================] - 0s 655us/step - loss: 0.3246 - accuracy: 0.8640 - recall: 0.5735 - precision: 0.7782\n",
      "Epoch 93/150\n",
      "410/410 [==============================] - 0s 663us/step - loss: 0.3244 - accuracy: 0.8641 - recall: 0.5778 - precision: 0.7756\n",
      "Epoch 94/150\n",
      "410/410 [==============================] - 0s 667us/step - loss: 0.3246 - accuracy: 0.8637 - recall: 0.5767 - precision: 0.7741\n",
      "Epoch 95/150\n",
      "410/410 [==============================] - 0s 659us/step - loss: 0.3243 - accuracy: 0.8615 - recall: 0.5720 - precision: 0.7678\n",
      "Epoch 96/150\n",
      "410/410 [==============================] - 0s 664us/step - loss: 0.3241 - accuracy: 0.8639 - recall: 0.5688 - precision: 0.7812\n",
      "Epoch 97/150\n",
      "410/410 [==============================] - 0s 652us/step - loss: 0.3236 - accuracy: 0.8645 - recall: 0.5783 - precision: 0.7768\n",
      "Epoch 98/150\n",
      "410/410 [==============================] - 0s 665us/step - loss: 0.3239 - accuracy: 0.8644 - recall: 0.5757 - precision: 0.7783\n",
      "Epoch 99/150\n",
      "410/410 [==============================] - 0s 659us/step - loss: 0.3233 - accuracy: 0.8630 - recall: 0.5741 - precision: 0.7733\n",
      "Epoch 100/150\n",
      "410/410 [==============================] - 0s 653us/step - loss: 0.3232 - accuracy: 0.8629 - recall: 0.5746 - precision: 0.7724\n",
      "Epoch 101/150\n",
      "410/410 [==============================] - 0s 661us/step - loss: 0.3235 - accuracy: 0.8652 - recall: 0.5772 - precision: 0.7810\n",
      "Epoch 102/150\n",
      "410/410 [==============================] - 0s 654us/step - loss: 0.3239 - accuracy: 0.8634 - recall: 0.5762 - precision: 0.7734\n",
      "Epoch 103/150\n",
      "410/410 [==============================] - 0s 632us/step - loss: 0.3231 - accuracy: 0.8641 - recall: 0.5661 - precision: 0.7845\n",
      "Epoch 104/150\n",
      "410/410 [==============================] - 0s 629us/step - loss: 0.3233 - accuracy: 0.8654 - recall: 0.5815 - precision: 0.7783\n",
      "Epoch 105/150\n",
      "410/410 [==============================] - 0s 635us/step - loss: 0.3229 - accuracy: 0.8646 - recall: 0.5788 - precision: 0.7770\n",
      "Epoch 106/150\n",
      "410/410 [==============================] - 0s 655us/step - loss: 0.3227 - accuracy: 0.8629 - recall: 0.5762 - precision: 0.7712\n",
      "Epoch 107/150\n",
      "410/410 [==============================] - 0s 654us/step - loss: 0.3224 - accuracy: 0.8646 - recall: 0.5788 - precision: 0.7770\n",
      "Epoch 108/150\n",
      "410/410 [==============================] - 0s 636us/step - loss: 0.3226 - accuracy: 0.8644 - recall: 0.5772 - precision: 0.7771\n",
      "Epoch 109/150\n",
      "410/410 [==============================] - 0s 639us/step - loss: 0.3222 - accuracy: 0.8659 - recall: 0.5862 - precision: 0.7770\n",
      "Epoch 110/150\n",
      "410/410 [==============================] - 0s 637us/step - loss: 0.3221 - accuracy: 0.8668 - recall: 0.5836 - precision: 0.7834\n",
      "Epoch 111/150\n",
      "410/410 [==============================] - 0s 642us/step - loss: 0.3223 - accuracy: 0.8644 - recall: 0.5762 - precision: 0.7779\n",
      "Epoch 112/150\n",
      "410/410 [==============================] - 0s 644us/step - loss: 0.3208 - accuracy: 0.8662 - recall: 0.5825 - precision: 0.7814\n",
      "Epoch 113/150\n",
      "410/410 [==============================] - 0s 642us/step - loss: 0.3214 - accuracy: 0.8660 - recall: 0.5847 - precision: 0.7787\n",
      "Epoch 114/150\n",
      "410/410 [==============================] - 0s 642us/step - loss: 0.3212 - accuracy: 0.8659 - recall: 0.5825 - precision: 0.7797\n",
      "Epoch 115/150\n",
      "410/410 [==============================] - 0s 644us/step - loss: 0.3217 - accuracy: 0.8634 - recall: 0.5783 - precision: 0.7719\n",
      "Epoch 116/150\n",
      "410/410 [==============================] - 0s 675us/step - loss: 0.3210 - accuracy: 0.8645 - recall: 0.5804 - precision: 0.7753\n",
      "Epoch 117/150\n"
     ]
    },
    {
     "name": "stdout",
     "output_type": "stream",
     "text": [
      "410/410 [==============================] - 0s 665us/step - loss: 0.3209 - accuracy: 0.8662 - recall: 0.5820 - precision: 0.7818\n",
      "Epoch 118/150\n",
      "410/410 [==============================] - 0s 662us/step - loss: 0.3216 - accuracy: 0.8661 - recall: 0.5783 - precision: 0.7841\n",
      "Epoch 119/150\n",
      "410/410 [==============================] - 0s 662us/step - loss: 0.3215 - accuracy: 0.8641 - recall: 0.5762 - precision: 0.7767\n",
      "Epoch 120/150\n",
      "410/410 [==============================] - 0s 662us/step - loss: 0.3209 - accuracy: 0.8639 - recall: 0.5804 - precision: 0.7725\n",
      "Epoch 121/150\n",
      "410/410 [==============================] - 0s 663us/step - loss: 0.3202 - accuracy: 0.8635 - recall: 0.5767 - precision: 0.7736\n",
      "Epoch 122/150\n",
      "410/410 [==============================] - 0s 662us/step - loss: 0.3209 - accuracy: 0.8638 - recall: 0.5778 - precision: 0.7739\n",
      "Epoch 123/150\n",
      "410/410 [==============================] - 0s 663us/step - loss: 0.3199 - accuracy: 0.8644 - recall: 0.5836 - precision: 0.7724\n",
      "Epoch 124/150\n",
      "410/410 [==============================] - 0s 659us/step - loss: 0.3200 - accuracy: 0.8654 - recall: 0.5810 - precision: 0.7787\n",
      "Epoch 125/150\n",
      "410/410 [==============================] - 0s 687us/step - loss: 0.3197 - accuracy: 0.8646 - recall: 0.5794 - precision: 0.7766\n",
      "Epoch 126/150\n",
      "410/410 [==============================] - 0s 672us/step - loss: 0.3202 - accuracy: 0.8663 - recall: 0.5847 - precision: 0.7804\n",
      "Epoch 127/150\n",
      "410/410 [==============================] - 0s 667us/step - loss: 0.3199 - accuracy: 0.8655 - recall: 0.5836 - precision: 0.7773\n",
      "Epoch 128/150\n",
      "410/410 [==============================] - 0s 681us/step - loss: 0.3192 - accuracy: 0.8638 - recall: 0.5810 - precision: 0.7716\n",
      "Epoch 129/150\n",
      "410/410 [==============================] - 0s 677us/step - loss: 0.3201 - accuracy: 0.8651 - recall: 0.5804 - precision: 0.7780\n",
      "Epoch 130/150\n",
      "410/410 [==============================] - 0s 664us/step - loss: 0.3194 - accuracy: 0.8644 - recall: 0.5778 - precision: 0.7767\n",
      "Epoch 131/150\n",
      "410/410 [==============================] - 0s 681us/step - loss: 0.3194 - accuracy: 0.8640 - recall: 0.5810 - precision: 0.7727\n",
      "Epoch 132/150\n",
      "410/410 [==============================] - 0s 677us/step - loss: 0.3191 - accuracy: 0.8630 - recall: 0.5757 - precision: 0.7722\n",
      "Epoch 133/150\n",
      "410/410 [==============================] - 0s 664us/step - loss: 0.3192 - accuracy: 0.8648 - recall: 0.5783 - precision: 0.7779\n",
      "Epoch 134/150\n",
      "410/410 [==============================] - 0s 637us/step - loss: 0.3190 - accuracy: 0.8670 - recall: 0.5868 - precision: 0.7815\n",
      "Epoch 135/150\n",
      "410/410 [==============================] - 0s 630us/step - loss: 0.3192 - accuracy: 0.8652 - recall: 0.5794 - precision: 0.7794\n",
      "Epoch 136/150\n",
      "410/410 [==============================] - 0s 628us/step - loss: 0.3186 - accuracy: 0.8655 - recall: 0.5820 - precision: 0.7785\n",
      "Epoch 137/150\n",
      "410/410 [==============================] - 0s 645us/step - loss: 0.3180 - accuracy: 0.8663 - recall: 0.5847 - precision: 0.7804\n",
      "Epoch 138/150\n",
      "410/410 [==============================] - 0s 678us/step - loss: 0.3186 - accuracy: 0.8644 - recall: 0.5836 - precision: 0.7724\n",
      "Epoch 139/150\n",
      "410/410 [==============================] - 0s 655us/step - loss: 0.3185 - accuracy: 0.8671 - recall: 0.5836 - precision: 0.7845\n",
      "Epoch 140/150\n",
      "410/410 [==============================] - 0s 671us/step - loss: 0.3183 - accuracy: 0.8666 - recall: 0.5873 - precision: 0.7795\n",
      "Epoch 141/150\n",
      "410/410 [==============================] - 0s 785us/step - loss: 0.3179 - accuracy: 0.8667 - recall: 0.5788 - precision: 0.7865\n",
      "Epoch 142/150\n",
      "410/410 [==============================] - 0s 768us/step - loss: 0.3183 - accuracy: 0.8656 - recall: 0.5878 - precision: 0.7748\n",
      "Epoch 143/150\n",
      "410/410 [==============================] - 0s 772us/step - loss: 0.3176 - accuracy: 0.8662 - recall: 0.5820 - precision: 0.7818\n",
      "Epoch 144/150\n",
      "410/410 [==============================] - 0s 674us/step - loss: 0.3173 - accuracy: 0.8665 - recall: 0.5857 - precision: 0.7801\n",
      "Epoch 145/150\n",
      "410/410 [==============================] - 0s 679us/step - loss: 0.3176 - accuracy: 0.8646 - recall: 0.5820 - precision: 0.7746\n",
      "Epoch 146/150\n",
      "410/410 [==============================] - 0s 671us/step - loss: 0.3178 - accuracy: 0.8660 - recall: 0.5847 - precision: 0.7787\n",
      "Epoch 147/150\n",
      "410/410 [==============================] - 0s 680us/step - loss: 0.3173 - accuracy: 0.8670 - recall: 0.5852 - precision: 0.7827\n",
      "Epoch 148/150\n",
      "410/410 [==============================] - 0s 670us/step - loss: 0.3171 - accuracy: 0.8657 - recall: 0.5820 - precision: 0.7796\n",
      "Epoch 149/150\n",
      "410/410 [==============================] - 0s 664us/step - loss: 0.3177 - accuracy: 0.8672 - recall: 0.5884 - precision: 0.7814\n",
      "Epoch 150/150\n",
      "410/410 [==============================] - 0s 667us/step - loss: 0.3162 - accuracy: 0.8663 - recall: 0.5889 - precision: 0.7772\n"
     ]
    }
   ],
   "source": [
    "X_train = np.asarray(X_train).astype(np.float32)\n",
    "model_fitted2 = model2.fit(X_train, y_train, epochs=150, batch_size=20)"
   ]
  },
  {
   "cell_type": "code",
   "execution_count": 13,
   "metadata": {},
   "outputs": [
    {
     "name": "stdout",
     "output_type": "stream",
     "text": [
      "257/257 [==============================] - 0s 632us/step - loss: 0.3153 - accuracy: 0.8676 - recall: 0.6228 - precision: 0.7594\n",
      "Accuracy: 86.76\n",
      "Recall: 62.28\n",
      "Precison: 75.94\n"
     ]
    }
   ],
   "source": [
    "_, accuracy, recall, precision = model2.evaluate(X_train, y_train)\n",
    "print('Accuracy: %.2f' % (accuracy*100))\n",
    "print('Recall: %.2f' % (recall*100))\n",
    "print('Precison: %.2f' % (precision*100))"
   ]
  },
  {
   "cell_type": "code",
   "execution_count": 14,
   "metadata": {},
   "outputs": [
    {
     "data": {
      "image/png": "[encoded data removed]",
      "text/plain": [
       "<Figure size 864x504 with 1 Axes>"
      ]
     },
     "metadata": {
      "needs_background": "light"
     },
     "output_type": "display_data"
    }
   ],
   "source": [
    "plt.figure(figsize=(12,7))\n",
    "plt.title('Evolución de las métricas según se entrena la red neuronal con Configuración 2')\n",
    "plt.plot(model_fitted2.history['accuracy'], label='Accuracy_train')\n",
    "plt.plot(model_fitted2.history['precision'], label='Precision_train')\n",
    "plt.plot(model_fitted2.history['recall'], label='Recall_train')\n",
    "plt.legend()\n",
    "plt.show()"
   ]
  },
  {
   "cell_type": "markdown",
   "metadata": {},
   "source": [
    "### **Evaluación con el dataset Test**"
   ]
  },
  {
   "cell_type": "markdown",
   "metadata": {},
   "source": [
    "Obervamos que obtenemos métricas parecidas pero con valores más altos, es mejor:"
   ]
  },
  {
   "cell_type": "code",
   "execution_count": 15,
   "metadata": {},
   "outputs": [
    {
     "name": "stdout",
     "output_type": "stream",
     "text": [
      "Accuracy: 84.82\n",
      "Recall: 57.46\n",
      "Precision: 69.31\n"
     ]
    }
   ],
   "source": [
    "loss, accuracy_test, recall_test, precision_test = model2.evaluate(X_test, y_test, verbose=0)\n",
    "print('Accuracy: %.2f' % (accuracy_test*100))\n",
    "print('Recall: %.2f' % (recall_test*100))\n",
    "print('Precision: %.2f' % (precision_test*100))"
   ]
  },
  {
   "cell_type": "markdown",
   "metadata": {},
   "source": [
    "## 3.3 Configuración 3"
   ]
  },
  {
   "cell_type": "markdown",
   "metadata": {},
   "source": [
    "En tercar lugar, modificamos un poco la configuración de la red neuronal, añadiendo **capas de dropout** para evitar el sobreajuste. \n",
    "\n",
    "  - Capa inicial: número de variables entrantes y las neuronas(15). Función de activación Relu.\n",
    "  - Capa intermedia: capa dropout (probabilidad 0.2)\n",
    "  - Capa final: una única neurona y función de activación sigmoid ya que la salida de nuestro modelo tiene que ser binaria."
   ]
  },
  {
   "cell_type": "markdown",
   "metadata": {},
   "source": [
    "### Configuración de la red"
   ]
  },
  {
   "cell_type": "code",
   "execution_count": 8,
   "metadata": {},
   "outputs": [],
   "source": [
    "model3 = Sequential()\n",
    "model3.add(Dense(15, input_dim=25, activation='relu'))\n",
    "model3.add(Dropout(0.2))\n",
    "model3.add(Dense(1, activation='sigmoid'))"
   ]
  },
  {
   "cell_type": "code",
   "execution_count": 9,
   "metadata": {},
   "outputs": [
    {
     "name": "stdout",
     "output_type": "stream",
     "text": [
      "Model: \"sequential\"\n",
      "_________________________________________________________________\n",
      "Layer (type)                 Output Shape              Param #   \n",
      "=================================================================\n",
      "dense (Dense)                (None, 15)                390       \n",
      "_________________________________________________________________\n",
      "dropout (Dropout)            (None, 15)                0         \n",
      "_________________________________________________________________\n",
      "dense_1 (Dense)              (None, 1)                 16        \n",
      "=================================================================\n",
      "Total params: 406\n",
      "Trainable params: 406\n",
      "Non-trainable params: 0\n",
      "_________________________________________________________________\n"
     ]
    }
   ],
   "source": [
    "model3.summary()"
   ]
  },
  {
   "cell_type": "code",
   "execution_count": 10,
   "metadata": {},
   "outputs": [],
   "source": [
    "recall = tf.keras.metrics.Recall()\n",
    "precision = tf.keras.metrics.Precision()"
   ]
  },
  {
   "cell_type": "code",
   "execution_count": 11,
   "metadata": {},
   "outputs": [],
   "source": [
    "model3.compile(loss='binary_crossentropy', optimizer='adam', metrics=['accuracy',recall, precision])"
   ]
  },
  {
   "cell_type": "markdown",
   "metadata": {},
   "source": [
    "### Entrenamiento"
   ]
  },
  {
   "cell_type": "code",
   "execution_count": 12,
   "metadata": {},
   "outputs": [
    {
     "name": "stdout",
     "output_type": "stream",
     "text": [
      "Epoch 1/150\n",
      "410/410 [==============================] - 0s 642us/step - loss: 0.6393 - accuracy: 0.6980 - recall: 0.3693 - precision: 0.3522\n",
      "Epoch 2/150\n",
      "410/410 [==============================] - 0s 609us/step - loss: 0.4331 - accuracy: 0.8145 - recall: 0.4397 - precision: 0.6427\n",
      "Epoch 3/150\n",
      "410/410 [==============================] - 0s 641us/step - loss: 0.4029 - accuracy: 0.8238 - recall: 0.4783 - precision: 0.6632\n",
      "Epoch 4/150\n",
      "410/410 [==============================] - 0s 639us/step - loss: 0.3914 - accuracy: 0.8315 - recall: 0.4810 - precision: 0.6939\n",
      "Epoch 5/150\n",
      "410/410 [==============================] - 0s 890us/step - loss: 0.3867 - accuracy: 0.8350 - recall: 0.4958 - precision: 0.7008\n",
      "Epoch 6/150\n",
      "410/410 [==============================] - 0s 734us/step - loss: 0.3813 - accuracy: 0.8421 - recall: 0.5132 - precision: 0.7212\n",
      "Epoch 7/150\n",
      "410/410 [==============================] - 0s 731us/step - loss: 0.3772 - accuracy: 0.8391 - recall: 0.5069 - precision: 0.7123\n",
      "Epoch 8/150\n",
      "410/410 [==============================] - 0s 742us/step - loss: 0.3755 - accuracy: 0.8399 - recall: 0.5053 - precision: 0.7164\n",
      "Epoch 9/150\n",
      "410/410 [==============================] - 0s 706us/step - loss: 0.3753 - accuracy: 0.8428 - recall: 0.5026 - precision: 0.7313\n",
      "Epoch 10/150\n",
      "410/410 [==============================] - 0s 655us/step - loss: 0.3716 - accuracy: 0.8459 - recall: 0.5159 - precision: 0.7364\n",
      "Epoch 11/150\n",
      "410/410 [==============================] - 0s 655us/step - loss: 0.3682 - accuracy: 0.8463 - recall: 0.5074 - precision: 0.7446\n",
      "Epoch 12/150\n",
      "410/410 [==============================] - 0s 637us/step - loss: 0.3626 - accuracy: 0.8487 - recall: 0.5196 - precision: 0.7468\n",
      "Epoch 13/150\n",
      "410/410 [==============================] - 0s 639us/step - loss: 0.3693 - accuracy: 0.8461 - recall: 0.5153 - precision: 0.7379\n",
      "Epoch 14/150\n",
      "410/410 [==============================] - 0s 637us/step - loss: 0.3635 - accuracy: 0.8476 - recall: 0.5201 - precision: 0.7413\n",
      "Epoch 15/150\n",
      "410/410 [==============================] - 0s 638us/step - loss: 0.3632 - accuracy: 0.8462 - recall: 0.5106 - precision: 0.7417\n",
      "Epoch 16/150\n",
      "410/410 [==============================] - 0s 638us/step - loss: 0.3600 - accuracy: 0.8494 - recall: 0.5217 - precision: 0.7487\n",
      "Epoch 17/150\n",
      "410/410 [==============================] - 0s 654us/step - loss: 0.3605 - accuracy: 0.8473 - recall: 0.5058 - precision: 0.7504\n",
      "Epoch 18/150\n",
      "410/410 [==============================] - 0s 694us/step - loss: 0.3588 - accuracy: 0.8513 - recall: 0.5212 - precision: 0.7583\n",
      "Epoch 19/150\n",
      "410/410 [==============================] - 0s 655us/step - loss: 0.3584 - accuracy: 0.8512 - recall: 0.5249 - precision: 0.7549\n",
      "Epoch 20/150\n",
      "410/410 [==============================] - 0s 639us/step - loss: 0.3595 - accuracy: 0.8507 - recall: 0.5111 - precision: 0.7630\n",
      "Epoch 21/150\n",
      "410/410 [==============================] - 0s 637us/step - loss: 0.3579 - accuracy: 0.8526 - recall: 0.5249 - precision: 0.7613\n",
      "Epoch 22/150\n",
      "410/410 [==============================] - 0s 621us/step - loss: 0.3566 - accuracy: 0.8532 - recall: 0.5185 - precision: 0.7692\n",
      "Epoch 23/150\n",
      "410/410 [==============================] - 0s 639us/step - loss: 0.3570 - accuracy: 0.8517 - recall: 0.5127 - precision: 0.7666\n",
      "Epoch 24/150\n",
      "410/410 [==============================] - 0s 638us/step - loss: 0.3544 - accuracy: 0.8509 - recall: 0.5127 - precision: 0.7624\n",
      "Epoch 25/150\n",
      "410/410 [==============================] - 0s 645us/step - loss: 0.3566 - accuracy: 0.8517 - recall: 0.5254 - precision: 0.7569\n",
      "Epoch 26/150\n",
      "410/410 [==============================] - 0s 660us/step - loss: 0.3549 - accuracy: 0.8543 - recall: 0.5201 - precision: 0.7734\n",
      "Epoch 27/150\n",
      "410/410 [==============================] - 0s 660us/step - loss: 0.3510 - accuracy: 0.8551 - recall: 0.5291 - precision: 0.7704\n",
      "Epoch 28/150\n",
      "410/410 [==============================] - 0s 656us/step - loss: 0.3561 - accuracy: 0.8520 - recall: 0.5233 - precision: 0.7596\n",
      "Epoch 29/150\n",
      "410/410 [==============================] - 0s 652us/step - loss: 0.3518 - accuracy: 0.8523 - recall: 0.5132 - precision: 0.7692\n",
      "Epoch 30/150\n",
      "410/410 [==============================] - 0s 728us/step - loss: 0.3535 - accuracy: 0.8530 - recall: 0.5175 - precision: 0.7695\n",
      "Epoch 31/150\n",
      "410/410 [==============================] - 0s 720us/step - loss: 0.3549 - accuracy: 0.8522 - recall: 0.5196 - precision: 0.7636\n",
      "Epoch 32/150\n",
      "410/410 [==============================] - 0s 724us/step - loss: 0.3527 - accuracy: 0.8552 - recall: 0.5233 - precision: 0.7757\n",
      "Epoch 33/150\n",
      "410/410 [==============================] - 0s 708us/step - loss: 0.3522 - accuracy: 0.8529 - recall: 0.5185 - precision: 0.7680\n",
      "Epoch 34/150\n",
      "410/410 [==============================] - 0s 703us/step - loss: 0.3523 - accuracy: 0.8512 - recall: 0.5111 - precision: 0.7655\n",
      "Epoch 35/150\n",
      "410/410 [==============================] - 0s 699us/step - loss: 0.3506 - accuracy: 0.8516 - recall: 0.5116 - precision: 0.7669\n",
      "Epoch 36/150\n",
      "410/410 [==============================] - 0s 680us/step - loss: 0.3524 - accuracy: 0.8546 - recall: 0.5201 - precision: 0.7752\n",
      "Epoch 37/150\n",
      "410/410 [==============================] - 0s 655us/step - loss: 0.3501 - accuracy: 0.8516 - recall: 0.5169 - precision: 0.7627\n",
      "Epoch 38/150\n",
      "410/410 [==============================] - 0s 644us/step - loss: 0.3494 - accuracy: 0.8549 - recall: 0.5249 - precision: 0.7726\n",
      "Epoch 39/150\n",
      "410/410 [==============================] - 0s 629us/step - loss: 0.3481 - accuracy: 0.8548 - recall: 0.5228 - precision: 0.7737\n",
      "Epoch 40/150\n",
      "410/410 [==============================] - 0s 612us/step - loss: 0.3478 - accuracy: 0.8541 - recall: 0.5265 - precision: 0.7677\n",
      "Epoch 41/150\n",
      "410/410 [==============================] - 0s 631us/step - loss: 0.3512 - accuracy: 0.8545 - recall: 0.5132 - precision: 0.7804\n",
      "Epoch 42/150\n",
      "410/410 [==============================] - 0s 634us/step - loss: 0.3465 - accuracy: 0.8565 - recall: 0.5339 - precision: 0.7732\n",
      "Epoch 43/150\n",
      "410/410 [==============================] - 0s 636us/step - loss: 0.3492 - accuracy: 0.8557 - recall: 0.5323 - precision: 0.7709\n",
      "Epoch 44/150\n",
      "410/410 [==============================] - 0s 626us/step - loss: 0.3478 - accuracy: 0.8522 - recall: 0.5196 - precision: 0.7636\n",
      "Epoch 45/150\n",
      "410/410 [==============================] - 0s 607us/step - loss: 0.3458 - accuracy: 0.8574 - recall: 0.5280 - precision: 0.7827\n",
      "Epoch 46/150\n",
      "410/410 [==============================] - 0s 635us/step - loss: 0.3503 - accuracy: 0.8543 - recall: 0.5233 - precision: 0.7708\n",
      "Epoch 47/150\n",
      "410/410 [==============================] - 0s 635us/step - loss: 0.3501 - accuracy: 0.8566 - recall: 0.5196 - precision: 0.7856\n",
      "Epoch 48/150\n",
      "410/410 [==============================] - 0s 627us/step - loss: 0.3503 - accuracy: 0.8567 - recall: 0.5249 - precision: 0.7817\n",
      "Epoch 49/150\n",
      "410/410 [==============================] - 0s 622us/step - loss: 0.3502 - accuracy: 0.8515 - recall: 0.5185 - precision: 0.7609\n",
      "Epoch 50/150\n",
      "410/410 [==============================] - 0s 638us/step - loss: 0.3493 - accuracy: 0.8526 - recall: 0.5180 - precision: 0.7666\n",
      "Epoch 51/150\n",
      "410/410 [==============================] - 0s 625us/step - loss: 0.3485 - accuracy: 0.8521 - recall: 0.5148 - precision: 0.7667\n",
      "Epoch 52/150\n",
      "410/410 [==============================] - 0s 621us/step - loss: 0.3466 - accuracy: 0.8548 - recall: 0.5233 - precision: 0.7733\n",
      "Epoch 53/150\n",
      "410/410 [==============================] - 0s 628us/step - loss: 0.3444 - accuracy: 0.8546 - recall: 0.5259 - precision: 0.7705\n",
      "Epoch 54/150\n",
      "410/410 [==============================] - 0s 636us/step - loss: 0.3470 - accuracy: 0.8552 - recall: 0.5370 - precision: 0.7649\n",
      "Epoch 55/150\n",
      "410/410 [==============================] - 0s 635us/step - loss: 0.3446 - accuracy: 0.8573 - recall: 0.5275 - precision: 0.7826\n",
      "Epoch 56/150\n",
      "410/410 [==============================] - 0s 626us/step - loss: 0.3460 - accuracy: 0.8565 - recall: 0.5296 - precision: 0.7766\n",
      "Epoch 57/150\n",
      "410/410 [==============================] - 0s 634us/step - loss: 0.3478 - accuracy: 0.8541 - recall: 0.5270 - precision: 0.7673\n",
      "Epoch 58/150\n",
      "410/410 [==============================] - 0s 644us/step - loss: 0.3468 - accuracy: 0.8557 - recall: 0.5228 - precision: 0.7786\n",
      "Epoch 59/150\n",
      "410/410 [==============================] - 0s 641us/step - loss: 0.3468 - accuracy: 0.8555 - recall: 0.5243 - precision: 0.7760\n",
      "Epoch 60/150\n",
      "410/410 [==============================] - 0s 641us/step - loss: 0.3472 - accuracy: 0.8552 - recall: 0.5280 - precision: 0.7718\n",
      "Epoch 61/150\n",
      "410/410 [==============================] - 0s 681us/step - loss: 0.3470 - accuracy: 0.8557 - recall: 0.5228 - precision: 0.7786\n",
      "Epoch 62/150\n",
      "410/410 [==============================] - 0s 624us/step - loss: 0.3452 - accuracy: 0.8589 - recall: 0.5307 - precision: 0.7879\n",
      "Epoch 63/150\n",
      "410/410 [==============================] - 0s 633us/step - loss: 0.3444 - accuracy: 0.8560 - recall: 0.5354 - precision: 0.7696\n",
      "Epoch 64/150\n",
      "410/410 [==============================] - 0s 786us/step - loss: 0.3456 - accuracy: 0.8556 - recall: 0.5302 - precision: 0.7720\n",
      "Epoch 65/150\n",
      "410/410 [==============================] - 0s 789us/step - loss: 0.3435 - accuracy: 0.8559 - recall: 0.5233 - precision: 0.7787\n",
      "Epoch 66/150\n",
      "410/410 [==============================] - 0s 799us/step - loss: 0.3445 - accuracy: 0.8568 - recall: 0.5365 - precision: 0.7729\n",
      "Epoch 67/150\n",
      "410/410 [==============================] - 0s 698us/step - loss: 0.3468 - accuracy: 0.8538 - recall: 0.5212 - precision: 0.7701\n",
      "Epoch 68/150\n",
      "410/410 [==============================] - 0s 675us/step - loss: 0.3459 - accuracy: 0.8574 - recall: 0.5312 - precision: 0.7801\n",
      "Epoch 69/150\n",
      "410/410 [==============================] - 0s 670us/step - loss: 0.3437 - accuracy: 0.8551 - recall: 0.5228 - precision: 0.7755\n",
      "Epoch 70/150\n",
      "410/410 [==============================] - 0s 675us/step - loss: 0.3452 - accuracy: 0.8570 - recall: 0.5254 - precision: 0.7825\n",
      "Epoch 71/150\n",
      "410/410 [==============================] - 0s 671us/step - loss: 0.3412 - accuracy: 0.8562 - recall: 0.5296 - precision: 0.7754\n",
      "Epoch 72/150\n",
      "410/410 [==============================] - 0s 681us/step - loss: 0.3449 - accuracy: 0.8565 - recall: 0.5381 - precision: 0.7699\n",
      "Epoch 73/150\n",
      "410/410 [==============================] - 0s 673us/step - loss: 0.3436 - accuracy: 0.8554 - recall: 0.5243 - precision: 0.7754\n",
      "Epoch 74/150\n",
      "410/410 [==============================] - 0s 682us/step - loss: 0.3433 - accuracy: 0.8574 - recall: 0.5270 - precision: 0.7836\n",
      "Epoch 75/150\n",
      "410/410 [==============================] - 0s 652us/step - loss: 0.3415 - accuracy: 0.8565 - recall: 0.5386 - precision: 0.7695\n",
      "Epoch 76/150\n",
      "410/410 [==============================] - 0s 627us/step - loss: 0.3431 - accuracy: 0.8550 - recall: 0.5275 - precision: 0.7711\n",
      "Epoch 77/150\n",
      "410/410 [==============================] - 0s 647us/step - loss: 0.3429 - accuracy: 0.8565 - recall: 0.5307 - precision: 0.7757\n",
      "Epoch 78/150\n",
      "410/410 [==============================] - 0s 641us/step - loss: 0.3407 - accuracy: 0.8583 - recall: 0.5402 - precision: 0.7770\n",
      "Epoch 79/150\n",
      "410/410 [==============================] - 0s 641us/step - loss: 0.3434 - accuracy: 0.8534 - recall: 0.5254 - precision: 0.7650\n",
      "Epoch 80/150\n",
      "410/410 [==============================] - 0s 657us/step - loss: 0.3406 - accuracy: 0.8573 - recall: 0.5376 - precision: 0.7744\n",
      "Epoch 81/150\n",
      "410/410 [==============================] - 0s 641us/step - loss: 0.3426 - accuracy: 0.8578 - recall: 0.5354 - precision: 0.7785\n",
      "Epoch 82/150\n",
      "410/410 [==============================] - 0s 621us/step - loss: 0.3418 - accuracy: 0.8596 - recall: 0.5381 - precision: 0.7853\n",
      "Epoch 83/150\n",
      "410/410 [==============================] - 0s 643us/step - loss: 0.3437 - accuracy: 0.8566 - recall: 0.5349 - precision: 0.7729\n",
      "Epoch 84/150\n",
      "410/410 [==============================] - 0s 650us/step - loss: 0.3399 - accuracy: 0.8561 - recall: 0.5349 - precision: 0.7706\n",
      "Epoch 85/150\n",
      "410/410 [==============================] - 0s 646us/step - loss: 0.3417 - accuracy: 0.8584 - recall: 0.5302 - precision: 0.7859\n",
      "Epoch 86/150\n",
      "410/410 [==============================] - 0s 639us/step - loss: 0.3434 - accuracy: 0.8568 - recall: 0.5307 - precision: 0.7775\n",
      "Epoch 87/150\n",
      "410/410 [==============================] - 0s 645us/step - loss: 0.3419 - accuracy: 0.8549 - recall: 0.5307 - precision: 0.7680\n",
      "Epoch 88/150\n",
      "410/410 [==============================] - 0s 627us/step - loss: 0.3402 - accuracy: 0.8562 - recall: 0.5291 - precision: 0.7758\n",
      "Epoch 89/150\n",
      "410/410 [==============================] - 0s 660us/step - loss: 0.3423 - accuracy: 0.8560 - recall: 0.5312 - precision: 0.7729\n",
      "Epoch 90/150\n",
      "410/410 [==============================] - 0s 656us/step - loss: 0.3446 - accuracy: 0.8556 - recall: 0.5185 - precision: 0.7815\n",
      "Epoch 91/150\n",
      "410/410 [==============================] - 0s 654us/step - loss: 0.3405 - accuracy: 0.8572 - recall: 0.5386 - precision: 0.7730\n",
      "Epoch 92/150\n",
      "410/410 [==============================] - 0s 658us/step - loss: 0.3414 - accuracy: 0.8577 - recall: 0.5386 - precision: 0.7753\n",
      "Epoch 93/150\n",
      "410/410 [==============================] - 0s 675us/step - loss: 0.3436 - accuracy: 0.8562 - recall: 0.5339 - precision: 0.7720\n",
      "Epoch 94/150\n",
      "410/410 [==============================] - 0s 680us/step - loss: 0.3401 - accuracy: 0.8554 - recall: 0.5259 - precision: 0.7741\n",
      "Epoch 95/150\n",
      "410/410 [==============================] - 0s 684us/step - loss: 0.3415 - accuracy: 0.8568 - recall: 0.5360 - precision: 0.7733\n",
      "Epoch 96/150\n",
      "410/410 [==============================] - 0s 653us/step - loss: 0.3427 - accuracy: 0.8563 - recall: 0.5323 - precision: 0.7738\n",
      "Epoch 97/150\n",
      "410/410 [==============================] - 0s 650us/step - loss: 0.3368 - accuracy: 0.8563 - recall: 0.5360 - precision: 0.7709\n",
      "Epoch 98/150\n",
      "410/410 [==============================] - 0s 674us/step - loss: 0.3387 - accuracy: 0.8577 - recall: 0.5323 - precision: 0.7804\n",
      "Epoch 99/150\n",
      "410/410 [==============================] - 0s 668us/step - loss: 0.3400 - accuracy: 0.8539 - recall: 0.5222 - precision: 0.7699\n",
      "Epoch 100/150\n",
      "410/410 [==============================] - 0s 709us/step - loss: 0.3429 - accuracy: 0.8550 - recall: 0.5228 - precision: 0.7749\n",
      "Epoch 101/150\n",
      "410/410 [==============================] - 0s 659us/step - loss: 0.3414 - accuracy: 0.8554 - recall: 0.5233 - precision: 0.7763\n",
      "Epoch 102/150\n",
      "410/410 [==============================] - 0s 656us/step - loss: 0.3413 - accuracy: 0.8544 - recall: 0.5339 - precision: 0.7632\n",
      "Epoch 103/150\n",
      "410/410 [==============================] - 0s 660us/step - loss: 0.3413 - accuracy: 0.8559 - recall: 0.5307 - precision: 0.7727\n",
      "Epoch 104/150\n",
      "410/410 [==============================] - 0s 651us/step - loss: 0.3381 - accuracy: 0.8567 - recall: 0.5302 - precision: 0.7773\n",
      "Epoch 105/150\n",
      "410/410 [==============================] - 0s 647us/step - loss: 0.3407 - accuracy: 0.8552 - recall: 0.5238 - precision: 0.7753\n",
      "Epoch 106/150\n",
      "410/410 [==============================] - 0s 652us/step - loss: 0.3397 - accuracy: 0.8591 - recall: 0.5397 - precision: 0.7816\n",
      "Epoch 107/150\n",
      "410/410 [==============================] - 0s 656us/step - loss: 0.3400 - accuracy: 0.8539 - recall: 0.5206 - precision: 0.7712\n",
      "Epoch 108/150\n",
      "410/410 [==============================] - 0s 650us/step - loss: 0.3386 - accuracy: 0.8572 - recall: 0.5349 - precision: 0.7759\n",
      "Epoch 109/150\n",
      "410/410 [==============================] - 0s 655us/step - loss: 0.3389 - accuracy: 0.8570 - recall: 0.5360 - precision: 0.7739\n",
      "Epoch 110/150\n",
      "410/410 [==============================] - 0s 657us/step - loss: 0.3381 - accuracy: 0.8605 - recall: 0.5429 - precision: 0.7856\n",
      "Epoch 111/150\n",
      "410/410 [==============================] - 0s 662us/step - loss: 0.3409 - accuracy: 0.8570 - recall: 0.5360 - precision: 0.7739\n",
      "Epoch 112/150\n",
      "410/410 [==============================] - 0s 635us/step - loss: 0.3403 - accuracy: 0.8560 - recall: 0.5291 - precision: 0.7746\n",
      "Epoch 113/150\n",
      "410/410 [==============================] - 0s 639us/step - loss: 0.3420 - accuracy: 0.8580 - recall: 0.5286 - precision: 0.7854\n",
      "Epoch 114/150\n",
      "410/410 [==============================] - 0s 628us/step - loss: 0.3377 - accuracy: 0.8573 - recall: 0.5444 - precision: 0.7691\n",
      "Epoch 115/150\n",
      "410/410 [==============================] - 0s 643us/step - loss: 0.3373 - accuracy: 0.8567 - recall: 0.5270 - precision: 0.7800\n",
      "Epoch 116/150\n",
      "410/410 [==============================] - 0s 636us/step - loss: 0.3373 - accuracy: 0.8551 - recall: 0.5270 - precision: 0.7721\n",
      "Epoch 117/150\n"
     ]
    },
    {
     "name": "stdout",
     "output_type": "stream",
     "text": [
      "410/410 [==============================] - 0s 633us/step - loss: 0.3421 - accuracy: 0.8555 - recall: 0.5307 - precision: 0.7709\n",
      "Epoch 118/150\n",
      "410/410 [==============================] - 0s 640us/step - loss: 0.3387 - accuracy: 0.8571 - recall: 0.5370 - precision: 0.7736\n",
      "Epoch 119/150\n",
      "410/410 [==============================] - 0s 631us/step - loss: 0.3403 - accuracy: 0.8530 - recall: 0.5238 - precision: 0.7645\n",
      "Epoch 120/150\n",
      "410/410 [==============================] - 0s 633us/step - loss: 0.3385 - accuracy: 0.8544 - recall: 0.5233 - precision: 0.7715\n",
      "Epoch 121/150\n",
      "410/410 [==============================] - 0s 635us/step - loss: 0.3400 - accuracy: 0.8551 - recall: 0.5259 - precision: 0.7729\n",
      "Epoch 122/150\n",
      "410/410 [==============================] - 0s 629us/step - loss: 0.3382 - accuracy: 0.8568 - recall: 0.5392 - precision: 0.7708\n",
      "Epoch 123/150\n",
      "410/410 [==============================] - 0s 632us/step - loss: 0.3398 - accuracy: 0.8529 - recall: 0.5259 - precision: 0.7623\n",
      "Epoch 124/150\n",
      "410/410 [==============================] - 0s 633us/step - loss: 0.3391 - accuracy: 0.8567 - recall: 0.5381 - precision: 0.7710\n",
      "Epoch 125/150\n",
      "410/410 [==============================] - 0s 632us/step - loss: 0.3358 - accuracy: 0.8589 - recall: 0.5402 - precision: 0.7800\n",
      "Epoch 126/150\n",
      "410/410 [==============================] - 0s 639us/step - loss: 0.3381 - accuracy: 0.8562 - recall: 0.5286 - precision: 0.7762\n",
      "Epoch 127/150\n",
      "410/410 [==============================] - 0s 638us/step - loss: 0.3396 - accuracy: 0.8579 - recall: 0.5370 - precision: 0.7778\n",
      "Epoch 128/150\n",
      "410/410 [==============================] - 0s 639us/step - loss: 0.3384 - accuracy: 0.8587 - recall: 0.5402 - precision: 0.7788\n",
      "Epoch 129/150\n",
      "410/410 [==============================] - 0s 649us/step - loss: 0.3362 - accuracy: 0.8599 - recall: 0.5370 - precision: 0.7874\n",
      "Epoch 130/150\n",
      "410/410 [==============================] - 0s 668us/step - loss: 0.3397 - accuracy: 0.8548 - recall: 0.5286 - precision: 0.7691\n",
      "Epoch 131/150\n",
      "410/410 [==============================] - 0s 701us/step - loss: 0.3412 - accuracy: 0.8561 - recall: 0.5386 - precision: 0.7677\n",
      "Epoch 132/150\n",
      "410/410 [==============================] - 0s 710us/step - loss: 0.3362 - accuracy: 0.8568 - recall: 0.5328 - precision: 0.7758\n",
      "Epoch 133/150\n",
      "410/410 [==============================] - 0s 655us/step - loss: 0.3377 - accuracy: 0.8566 - recall: 0.5423 - precision: 0.7672\n",
      "Epoch 134/150\n",
      "410/410 [==============================] - 0s 644us/step - loss: 0.3395 - accuracy: 0.8552 - recall: 0.5259 - precision: 0.7735\n",
      "Epoch 135/150\n",
      "410/410 [==============================] - 0s 709us/step - loss: 0.3368 - accuracy: 0.8560 - recall: 0.5344 - precision: 0.7704\n",
      "Epoch 136/150\n",
      "410/410 [==============================] - 0s 671us/step - loss: 0.3399 - accuracy: 0.8573 - recall: 0.5344 - precision: 0.7769\n",
      "Epoch 137/150\n",
      "410/410 [==============================] - 0s 676us/step - loss: 0.3374 - accuracy: 0.8605 - recall: 0.5349 - precision: 0.7923\n",
      "Epoch 138/150\n",
      "410/410 [==============================] - 0s 692us/step - loss: 0.3364 - accuracy: 0.8587 - recall: 0.5476 - precision: 0.7730\n",
      "Epoch 139/150\n",
      "410/410 [==============================] - 0s 688us/step - loss: 0.3377 - accuracy: 0.8563 - recall: 0.5349 - precision: 0.7718\n",
      "Epoch 140/150\n",
      "410/410 [==============================] - 0s 692us/step - loss: 0.3383 - accuracy: 0.8555 - recall: 0.5323 - precision: 0.7697\n",
      "Epoch 141/150\n",
      "410/410 [==============================] - 0s 692us/step - loss: 0.3402 - accuracy: 0.8563 - recall: 0.5370 - precision: 0.7701\n",
      "Epoch 142/150\n",
      "410/410 [==============================] - 0s 668us/step - loss: 0.3354 - accuracy: 0.8612 - recall: 0.5481 - precision: 0.7848\n",
      "Epoch 143/150\n",
      "410/410 [==============================] - 0s 643us/step - loss: 0.3365 - accuracy: 0.8589 - recall: 0.5407 - precision: 0.7796\n",
      "Epoch 144/150\n",
      "410/410 [==============================] - 0s 643us/step - loss: 0.3379 - accuracy: 0.8579 - recall: 0.5381 - precision: 0.7769\n",
      "Epoch 145/150\n",
      "410/410 [==============================] - 0s 642us/step - loss: 0.3374 - accuracy: 0.8579 - recall: 0.5328 - precision: 0.7812\n",
      "Epoch 146/150\n",
      "410/410 [==============================] - 0s 646us/step - loss: 0.3414 - accuracy: 0.8559 - recall: 0.5365 - precision: 0.7682\n",
      "Epoch 147/150\n",
      "410/410 [==============================] - 0s 638us/step - loss: 0.3390 - accuracy: 0.8561 - recall: 0.5323 - precision: 0.7727\n",
      "Epoch 148/150\n",
      "410/410 [==============================] - 0s 643us/step - loss: 0.3360 - accuracy: 0.8582 - recall: 0.5392 - precision: 0.7773\n",
      "Epoch 149/150\n",
      "410/410 [==============================] - 0s 641us/step - loss: 0.3335 - accuracy: 0.8602 - recall: 0.5423 - precision: 0.7848\n",
      "Epoch 150/150\n",
      "410/410 [==============================] - 0s 644us/step - loss: 0.3359 - accuracy: 0.8552 - recall: 0.5413 - precision: 0.7617\n"
     ]
    }
   ],
   "source": [
    "X_train = np.asarray(X_train).astype(np.float32)\n",
    "model_fitted3 = model3.fit(X_train, y_train, epochs=150, batch_size=20)"
   ]
  },
  {
   "cell_type": "code",
   "execution_count": 13,
   "metadata": {},
   "outputs": [
    {
     "name": "stdout",
     "output_type": "stream",
     "text": [
      "257/257 [==============================] - 0s 630us/step - loss: 0.3200 - accuracy: 0.8655 - recall: 0.5291 - precision: 0.8244\n",
      "Accuracy: 86.55\n",
      "Recall: 52.91\n",
      "Precision: 82.44\n"
     ]
    }
   ],
   "source": [
    "_, accuracy, recall, precision = model3.evaluate(X_train, y_train)\n",
    "print('Accuracy: %.2f' % (accuracy*100))\n",
    "print('Recall: %.2f' % (recall*100))\n",
    "print('Precision: %.2f' % (precision*100))"
   ]
  },
  {
   "cell_type": "code",
   "execution_count": 14,
   "metadata": {},
   "outputs": [
    {
     "data": {
      "image/png": "[encoded data removed]",
      "text/plain": [
       "<Figure size 864x504 with 1 Axes>"
      ]
     },
     "metadata": {
      "needs_background": "light"
     },
     "output_type": "display_data"
    }
   ],
   "source": [
    "plt.figure(figsize=(12,7))\n",
    "plt.title('Evolución de las métricas según se entrena la red neuronal con Configuración 3')\n",
    "plt.plot(model_fitted3.history['accuracy'], label='Accuracy_train')\n",
    "plt.plot(model_fitted3.history['precision'], label='Precision_train')\n",
    "plt.plot(model_fitted3.history['recall'], label='Recall_train')\n",
    "plt.legend()\n",
    "plt.show()"
   ]
  },
  {
   "cell_type": "markdown",
   "metadata": {},
   "source": [
    "### **Evaluación con el dataset Test**"
   ]
  },
  {
   "cell_type": "markdown",
   "metadata": {},
   "source": [
    "Obervamos que mejora el precision pero empeora el recall:"
   ]
  },
  {
   "cell_type": "code",
   "execution_count": 15,
   "metadata": {},
   "outputs": [
    {
     "name": "stdout",
     "output_type": "stream",
     "text": [
      "Accuracy: 84.23\n",
      "Recall: 46.49\n",
      "Precision: 73.10\n"
     ]
    }
   ],
   "source": [
    "loss, accuracy_test, recall_test, precision_test = model3.evaluate(X_test, y_test, verbose=0)\n",
    "print('Accuracy: %.2f' % (accuracy_test*100))\n",
    "print('Recall: %.2f' % (recall_test*100))\n",
    "print('Precision: %.2f' % (precision_test*100))"
   ]
  },
  {
   "cell_type": "markdown",
   "metadata": {},
   "source": [
    "# 4. Conclusiones"
   ]
  },
  {
   "cell_type": "markdown",
   "metadata": {},
   "source": [
    "Con este ejercicio se concluye que la mejor **configuración probada es la 2**, aunque sea más sencilla y con menos capas es la que proporciona las mejores métricas precision - recall. Además, los resultados ya son muy buenos teniendo en cuenta que el dataset está desbalanceado y que podrán mejorar aplicando la adecuada técnica de balanceo. "
   ]
  },
  {
   "cell_type": "markdown",
   "metadata": {},
   "source": [
    "Como el siguiente ejercicio trata de cómo mejoran los modelos desequilibrados realizando un correcto tratamiento del número de muestras para cada clase, avanzamos en este apartado un pequeño **ejercicio de equilibrado** de muestras con la red neuronal con configuración 2 para evaluar cómo se llegarían a mejorar los resultados."
   ]
  },
  {
   "cell_type": "markdown",
   "metadata": {},
   "source": [
    "# 5. Matriz de costes (datos desbalanceados)"
   ]
  },
  {
   "cell_type": "markdown",
   "metadata": {},
   "source": [
    "## Configuración 4"
   ]
  },
  {
   "cell_type": "markdown",
   "metadata": {},
   "source": [
    "Partimos de la red neuronal con configuración 2:\n",
    "\n",
    "  - Capa inicial: número de variables entrantes y las neuronas(15). Función de activación Relu.\n",
    "  - Capa final: una única neurona y función de activación sigmoid ya que la salida de nuestro modelo tiene que ser binaria."
   ]
  },
  {
   "cell_type": "markdown",
   "metadata": {},
   "source": [
    "### Configuración de la red"
   ]
  },
  {
   "cell_type": "code",
   "execution_count": 8,
   "metadata": {},
   "outputs": [
    {
     "data": {
      "text/plain": [
       "RainTomorrow\n",
       "0    6310\n",
       "1    1890\n",
       "Name: MinTemp, dtype: int64"
      ]
     },
     "execution_count": 8,
     "metadata": {},
     "output_type": "execute_result"
    }
   ],
   "source": [
    "df_selected_train.groupby(['RainTomorrow'])['MinTemp'].count()"
   ]
  },
  {
   "cell_type": "code",
   "execution_count": 9,
   "metadata": {},
   "outputs": [],
   "source": [
    "muestras_clase0 =  6310\n",
    "muestras_clase1 =   1890\n",
    "n_muestras = 6310 + 1890"
   ]
  },
  {
   "cell_type": "markdown",
   "metadata": {},
   "source": [
    "Calculamos los pesos que tienen las clases en el dataset:"
   ]
  },
  {
   "cell_type": "code",
   "execution_count": 10,
   "metadata": {},
   "outputs": [],
   "source": [
    "Pr_0 = muestras_clase0/n_muestras\n",
    "Pr_1 = muestras_clase1/n_muestras"
   ]
  },
  {
   "cell_type": "markdown",
   "metadata": {},
   "source": [
    "Definimos una matriz de costes:"
   ]
  },
  {
   "cell_type": "code",
   "execution_count": 11,
   "metadata": {},
   "outputs": [],
   "source": [
    "weight = np.zeros((y_train.shape[0])) \n",
    "for i in range(0,y_train.shape[0]):\n",
    "    if(y_train[i]==0):\n",
    "        weight[i] = Pr_1/Pr_0\n",
    "    if(y_train[i]==1):\n",
    "        weight[i] = 1"
   ]
  },
  {
   "cell_type": "markdown",
   "metadata": {},
   "source": [
    "Resumen de la red neuronal:"
   ]
  },
  {
   "cell_type": "code",
   "execution_count": 12,
   "metadata": {},
   "outputs": [],
   "source": [
    "model2 = Sequential()\n",
    "model2.add(Dense(15, input_dim=25, activation='relu'))\n",
    "model2.add(Dense(1, activation='sigmoid'))"
   ]
  },
  {
   "cell_type": "code",
   "execution_count": 13,
   "metadata": {},
   "outputs": [
    {
     "name": "stdout",
     "output_type": "stream",
     "text": [
      "Model: \"sequential\"\n",
      "_________________________________________________________________\n",
      "Layer (type)                 Output Shape              Param #   \n",
      "=================================================================\n",
      "dense (Dense)                (None, 15)                390       \n",
      "_________________________________________________________________\n",
      "dense_1 (Dense)              (None, 1)                 16        \n",
      "=================================================================\n",
      "Total params: 406\n",
      "Trainable params: 406\n",
      "Non-trainable params: 0\n",
      "_________________________________________________________________\n"
     ]
    }
   ],
   "source": [
    "model2.summary()"
   ]
  },
  {
   "cell_type": "code",
   "execution_count": 14,
   "metadata": {},
   "outputs": [],
   "source": [
    "recall = tf.keras.metrics.Recall()\n",
    "precision = tf.keras.metrics.Precision()"
   ]
  },
  {
   "cell_type": "code",
   "execution_count": 15,
   "metadata": {},
   "outputs": [],
   "source": [
    "model2.compile(loss='binary_crossentropy', optimizer='adam', metrics=['accuracy', recall, precision])"
   ]
  },
  {
   "cell_type": "markdown",
   "metadata": {},
   "source": [
    "### Entrenamiento"
   ]
  },
  {
   "cell_type": "code",
   "execution_count": 16,
   "metadata": {},
   "outputs": [
    {
     "name": "stdout",
     "output_type": "stream",
     "text": [
      "Epoch 1/150\n",
      "410/410 [==============================] - 0s 651us/step - loss: 0.2788 - accuracy: 0.6457 - recall: 0.7608 - precision: 0.3696\n",
      "Epoch 2/150\n",
      "410/410 [==============================] - 0s 815us/step - loss: 0.2259 - accuracy: 0.7711 - recall: 0.7508 - precision: 0.5023\n",
      "Epoch 3/150\n",
      "410/410 [==============================] - 0s 717us/step - loss: 0.2191 - accuracy: 0.7815 - recall: 0.7577 - precision: 0.5177\n",
      "Epoch 4/150\n",
      "410/410 [==============================] - 0s 711us/step - loss: 0.2157 - accuracy: 0.7822 - recall: 0.7577 - precision: 0.5188\n",
      "Epoch 5/150\n",
      "410/410 [==============================] - 0s 701us/step - loss: 0.2138 - accuracy: 0.7868 - recall: 0.7614 - precision: 0.5260\n",
      "Epoch 6/150\n",
      "410/410 [==============================] - 0s 707us/step - loss: 0.2116 - accuracy: 0.7854 - recall: 0.7672 - precision: 0.5235\n",
      "Epoch 7/150\n",
      "410/410 [==============================] - 0s 636us/step - loss: 0.2104 - accuracy: 0.7901 - recall: 0.7688 - precision: 0.5309\n",
      "Epoch 8/150\n",
      "410/410 [==============================] - 0s 658us/step - loss: 0.2095 - accuracy: 0.7904 - recall: 0.7624 - precision: 0.5315\n",
      "Epoch 9/150\n",
      "410/410 [==============================] - 0s 657us/step - loss: 0.2081 - accuracy: 0.7930 - recall: 0.7714 - precision: 0.5354\n",
      "Epoch 10/150\n",
      "410/410 [==============================] - 0s 651us/step - loss: 0.2067 - accuracy: 0.7967 - recall: 0.7741 - precision: 0.5413\n",
      "Epoch 11/150\n",
      "410/410 [==============================] - 0s 664us/step - loss: 0.2056 - accuracy: 0.7949 - recall: 0.7677 - precision: 0.5386\n",
      "Epoch 12/150\n",
      "410/410 [==============================] - 0s 657us/step - loss: 0.2043 - accuracy: 0.7956 - recall: 0.7683 - precision: 0.5398\n",
      "Epoch 13/150\n",
      "410/410 [==============================] - 0s 657us/step - loss: 0.2032 - accuracy: 0.7966 - recall: 0.7778 - precision: 0.5408\n",
      "Epoch 14/150\n",
      "410/410 [==============================] - 0s 652us/step - loss: 0.2030 - accuracy: 0.7974 - recall: 0.7730 - precision: 0.5425\n",
      "Epoch 15/150\n",
      "410/410 [==============================] - 0s 658us/step - loss: 0.2018 - accuracy: 0.7994 - recall: 0.7788 - precision: 0.5454\n",
      "Epoch 16/150\n",
      "410/410 [==============================] - 0s 662us/step - loss: 0.2009 - accuracy: 0.8016 - recall: 0.7788 - precision: 0.5490\n",
      "Epoch 17/150\n",
      "410/410 [==============================] - 0s 655us/step - loss: 0.2001 - accuracy: 0.8017 - recall: 0.7831 - precision: 0.5490\n",
      "Epoch 18/150\n",
      "410/410 [==============================] - 0s 655us/step - loss: 0.1996 - accuracy: 0.8007 - recall: 0.7799 - precision: 0.5475\n",
      "Epoch 19/150\n",
      "410/410 [==============================] - 0s 662us/step - loss: 0.1982 - accuracy: 0.8040 - recall: 0.7841 - precision: 0.5528\n",
      "Epoch 20/150\n",
      "410/410 [==============================] - 0s 656us/step - loss: 0.1980 - accuracy: 0.8029 - recall: 0.7857 - precision: 0.5508\n",
      "Epoch 21/150\n",
      "410/410 [==============================] - 0s 659us/step - loss: 0.1973 - accuracy: 0.8021 - recall: 0.7825 - precision: 0.5496\n",
      "Epoch 22/150\n",
      "410/410 [==============================] - 0s 654us/step - loss: 0.1966 - accuracy: 0.8029 - recall: 0.7836 - precision: 0.5510\n",
      "Epoch 23/150\n",
      "410/410 [==============================] - 0s 659us/step - loss: 0.1961 - accuracy: 0.8039 - recall: 0.7899 - precision: 0.5521\n",
      "Epoch 24/150\n",
      "410/410 [==============================] - 0s 661us/step - loss: 0.1960 - accuracy: 0.8044 - recall: 0.7836 - precision: 0.5534\n",
      "Epoch 25/150\n",
      "410/410 [==============================] - 0s 667us/step - loss: 0.1953 - accuracy: 0.8052 - recall: 0.7899 - precision: 0.5544\n",
      "Epoch 26/150\n",
      "410/410 [==============================] - 0s 661us/step - loss: 0.1948 - accuracy: 0.8080 - recall: 0.7884 - precision: 0.5593\n",
      "Epoch 27/150\n",
      "410/410 [==============================] - 0s 664us/step - loss: 0.1943 - accuracy: 0.8059 - recall: 0.7862 - precision: 0.5557\n",
      "Epoch 28/150\n",
      "410/410 [==============================] - 0s 660us/step - loss: 0.1939 - accuracy: 0.8099 - recall: 0.7905 - precision: 0.5623\n",
      "Epoch 29/150\n",
      "410/410 [==============================] - 0s 657us/step - loss: 0.1935 - accuracy: 0.8061 - recall: 0.7942 - precision: 0.5555\n",
      "Epoch 30/150\n",
      "410/410 [==============================] - 0s 657us/step - loss: 0.1932 - accuracy: 0.8079 - recall: 0.7915 - precision: 0.5588\n",
      "Epoch 31/150\n",
      "410/410 [==============================] - 0s 659us/step - loss: 0.1927 - accuracy: 0.8101 - recall: 0.7878 - precision: 0.5629\n",
      "Epoch 32/150\n",
      "410/410 [==============================] - 0s 712us/step - loss: 0.1922 - accuracy: 0.8089 - recall: 0.7899 - precision: 0.5606\n",
      "Epoch 33/150\n",
      "410/410 [==============================] - 0s 733us/step - loss: 0.1921 - accuracy: 0.8110 - recall: 0.7921 - precision: 0.5641\n",
      "Epoch 34/150\n",
      "410/410 [==============================] - 0s 898us/step - loss: 0.1916 - accuracy: 0.8093 - recall: 0.8005 - precision: 0.5604\n",
      "Epoch 35/150\n",
      "410/410 [==============================] - 0s 893us/step - loss: 0.1915 - accuracy: 0.8113 - recall: 0.7910 - precision: 0.5648\n",
      "Epoch 36/150\n",
      "410/410 [==============================] - 0s 869us/step - loss: 0.1915 - accuracy: 0.8091 - recall: 0.7937 - precision: 0.5607\n",
      "Epoch 37/150\n",
      "410/410 [==============================] - 0s 836us/step - loss: 0.1908 - accuracy: 0.8080 - recall: 0.7942 - precision: 0.5588\n",
      "Epoch 38/150\n",
      "410/410 [==============================] - 0s 842us/step - loss: 0.1905 - accuracy: 0.8105 - recall: 0.8005 - precision: 0.5625\n",
      "Epoch 39/150\n",
      "410/410 [==============================] - 0s 828us/step - loss: 0.1902 - accuracy: 0.8127 - recall: 0.7947 - precision: 0.5668\n",
      "Epoch 40/150\n",
      "410/410 [==============================] - 0s 845us/step - loss: 0.1898 - accuracy: 0.8134 - recall: 0.8016 - precision: 0.5674\n",
      "Epoch 41/150\n",
      "410/410 [==============================] - 0s 839us/step - loss: 0.1900 - accuracy: 0.8106 - recall: 0.7984 - precision: 0.5628\n",
      "Epoch 42/150\n",
      "410/410 [==============================] - 0s 840us/step - loss: 0.1897 - accuracy: 0.8094 - recall: 0.7995 - precision: 0.5607\n",
      "Epoch 43/150\n",
      "410/410 [==============================] - 0s 715us/step - loss: 0.1893 - accuracy: 0.8115 - recall: 0.7974 - precision: 0.5644\n",
      "Epoch 44/150\n",
      "410/410 [==============================] - 0s 712us/step - loss: 0.1892 - accuracy: 0.8121 - recall: 0.7952 - precision: 0.5657\n",
      "Epoch 45/150\n",
      "410/410 [==============================] - 0s 712us/step - loss: 0.1885 - accuracy: 0.8112 - recall: 0.8026 - precision: 0.5635\n",
      "Epoch 46/150\n",
      "410/410 [==============================] - 0s 715us/step - loss: 0.1889 - accuracy: 0.8104 - recall: 0.7984 - precision: 0.5624\n",
      "Epoch 47/150\n",
      "410/410 [==============================] - 0s 718us/step - loss: 0.1882 - accuracy: 0.8150 - recall: 0.8069 - precision: 0.5697\n",
      "Epoch 48/150\n",
      "410/410 [==============================] - 0s 724us/step - loss: 0.1878 - accuracy: 0.8137 - recall: 0.8000 - precision: 0.5680\n",
      "Epoch 49/150\n",
      "410/410 [==============================] - 0s 726us/step - loss: 0.1879 - accuracy: 0.8123 - recall: 0.8032 - precision: 0.5654\n",
      "Epoch 50/150\n",
      "410/410 [==============================] - 0s 724us/step - loss: 0.1876 - accuracy: 0.8145 - recall: 0.8021 - precision: 0.5693\n",
      "Epoch 51/150\n",
      "410/410 [==============================] - 0s 725us/step - loss: 0.1873 - accuracy: 0.8124 - recall: 0.8011 - precision: 0.5658\n",
      "Epoch 52/150\n",
      "410/410 [==============================] - 0s 723us/step - loss: 0.1875 - accuracy: 0.8112 - recall: 0.8053 - precision: 0.5633\n",
      "Epoch 53/150\n",
      "410/410 [==============================] - 0s 725us/step - loss: 0.1872 - accuracy: 0.8156 - recall: 0.8032 - precision: 0.5711\n",
      "Epoch 54/150\n",
      "410/410 [==============================] - 0s 724us/step - loss: 0.1873 - accuracy: 0.8139 - recall: 0.8026 - precision: 0.5682\n",
      "Epoch 55/150\n",
      "410/410 [==============================] - 0s 667us/step - loss: 0.1865 - accuracy: 0.8135 - recall: 0.7989 - precision: 0.5679\n",
      "Epoch 56/150\n",
      "410/410 [==============================] - 0s 642us/step - loss: 0.1867 - accuracy: 0.8177 - recall: 0.8037 - precision: 0.5747\n",
      "Epoch 57/150\n",
      "410/410 [==============================] - 0s 637us/step - loss: 0.1864 - accuracy: 0.8151 - recall: 0.8079 - precision: 0.5698\n",
      "Epoch 58/150\n",
      "410/410 [==============================] - 0s 641us/step - loss: 0.1868 - accuracy: 0.8146 - recall: 0.8021 - precision: 0.5695\n",
      "Epoch 59/150\n",
      "410/410 [==============================] - 0s 638us/step - loss: 0.1861 - accuracy: 0.8161 - recall: 0.8069 - precision: 0.5716\n",
      "Epoch 60/150\n",
      "410/410 [==============================] - 0s 659us/step - loss: 0.1863 - accuracy: 0.8170 - recall: 0.8069 - precision: 0.5731\n",
      "Epoch 61/150\n",
      "410/410 [==============================] - 0s 657us/step - loss: 0.1865 - accuracy: 0.8120 - recall: 0.8053 - precision: 0.5645\n",
      "Epoch 62/150\n",
      "410/410 [==============================] - 0s 653us/step - loss: 0.1858 - accuracy: 0.8134 - recall: 0.8042 - precision: 0.5672\n",
      "Epoch 63/150\n",
      "410/410 [==============================] - 0s 657us/step - loss: 0.1855 - accuracy: 0.8180 - recall: 0.8048 - precision: 0.5753\n",
      "Epoch 64/150\n",
      "410/410 [==============================] - 0s 651us/step - loss: 0.1851 - accuracy: 0.8168 - recall: 0.8085 - precision: 0.5727\n",
      "Epoch 65/150\n",
      "410/410 [==============================] - 0s 653us/step - loss: 0.1856 - accuracy: 0.8161 - recall: 0.8058 - precision: 0.5717\n",
      "Epoch 66/150\n",
      "410/410 [==============================] - 0s 650us/step - loss: 0.1853 - accuracy: 0.8155 - recall: 0.8058 - precision: 0.5706\n",
      "Epoch 67/150\n",
      "410/410 [==============================] - 0s 651us/step - loss: 0.1854 - accuracy: 0.8157 - recall: 0.8042 - precision: 0.5712\n",
      "Epoch 68/150\n",
      "410/410 [==============================] - 0s 654us/step - loss: 0.1852 - accuracy: 0.8150 - recall: 0.8058 - precision: 0.5698\n",
      "Epoch 69/150\n",
      "410/410 [==============================] - 0s 652us/step - loss: 0.1845 - accuracy: 0.8171 - recall: 0.8085 - precision: 0.5731\n",
      "Epoch 70/150\n",
      "410/410 [==============================] - 0s 642us/step - loss: 0.1850 - accuracy: 0.8156 - recall: 0.8069 - precision: 0.5707\n",
      "Epoch 71/150\n",
      "410/410 [==============================] - 0s 654us/step - loss: 0.1842 - accuracy: 0.8167 - recall: 0.8079 - precision: 0.5726\n",
      "Epoch 72/150\n",
      "410/410 [==============================] - 0s 659us/step - loss: 0.1849 - accuracy: 0.8162 - recall: 0.8074 - precision: 0.5717\n",
      "Epoch 73/150\n",
      "410/410 [==============================] - 0s 648us/step - loss: 0.1846 - accuracy: 0.8170 - recall: 0.8074 - precision: 0.5730\n",
      "Epoch 74/150\n",
      "410/410 [==============================] - 0s 648us/step - loss: 0.1848 - accuracy: 0.8168 - recall: 0.8026 - precision: 0.5733\n",
      "Epoch 75/150\n",
      "410/410 [==============================] - 0s 655us/step - loss: 0.1846 - accuracy: 0.8146 - recall: 0.8079 - precision: 0.5689\n",
      "Epoch 76/150\n",
      "410/410 [==============================] - 0s 651us/step - loss: 0.1842 - accuracy: 0.8143 - recall: 0.8048 - precision: 0.5686\n",
      "Epoch 77/150\n",
      "410/410 [==============================] - 0s 653us/step - loss: 0.1844 - accuracy: 0.8151 - recall: 0.8037 - precision: 0.5702\n",
      "Epoch 78/150\n",
      "410/410 [==============================] - 0s 658us/step - loss: 0.1842 - accuracy: 0.8149 - recall: 0.8074 - precision: 0.5694\n",
      "Epoch 79/150\n",
      "410/410 [==============================] - 0s 653us/step - loss: 0.1840 - accuracy: 0.8162 - recall: 0.8090 - precision: 0.5716\n",
      "Epoch 80/150\n",
      "410/410 [==============================] - 0s 647us/step - loss: 0.1839 - accuracy: 0.8216 - recall: 0.8095 - precision: 0.5811\n",
      "Epoch 81/150\n",
      "410/410 [==============================] - 0s 655us/step - loss: 0.1836 - accuracy: 0.8160 - recall: 0.8069 - precision: 0.5714\n",
      "Epoch 82/150\n",
      "410/410 [==============================] - 0s 669us/step - loss: 0.1835 - accuracy: 0.8180 - recall: 0.8138 - precision: 0.5743\n",
      "Epoch 83/150\n",
      "410/410 [==============================] - 0s 674us/step - loss: 0.1831 - accuracy: 0.8139 - recall: 0.8111 - precision: 0.5674\n",
      "Epoch 84/150\n",
      "410/410 [==============================] - 0s 676us/step - loss: 0.1841 - accuracy: 0.8165 - recall: 0.8079 - precision: 0.5721\n",
      "Epoch 85/150\n",
      "410/410 [==============================] - 0s 707us/step - loss: 0.1836 - accuracy: 0.8179 - recall: 0.8138 - precision: 0.5741\n",
      "Epoch 86/150\n",
      "410/410 [==============================] - 0s 654us/step - loss: 0.1830 - accuracy: 0.8155 - recall: 0.8063 - precision: 0.5706\n",
      "Epoch 87/150\n",
      "410/410 [==============================] - 0s 653us/step - loss: 0.1832 - accuracy: 0.8177 - recall: 0.8053 - precision: 0.5746\n",
      "Epoch 88/150\n",
      "410/410 [==============================] - 0s 656us/step - loss: 0.1834 - accuracy: 0.8179 - recall: 0.8159 - precision: 0.5739\n",
      "Epoch 89/150\n",
      "410/410 [==============================] - 0s 657us/step - loss: 0.1835 - accuracy: 0.8160 - recall: 0.8032 - precision: 0.5718\n",
      "Epoch 90/150\n",
      "410/410 [==============================] - 0s 652us/step - loss: 0.1829 - accuracy: 0.8195 - recall: 0.8111 - precision: 0.5772\n",
      "Epoch 91/150\n",
      "410/410 [==============================] - 0s 673us/step - loss: 0.1827 - accuracy: 0.8180 - recall: 0.8116 - precision: 0.5745\n",
      "Epoch 92/150\n",
      "410/410 [==============================] - 0s 638us/step - loss: 0.1825 - accuracy: 0.8191 - recall: 0.8101 - precision: 0.5766\n",
      "Epoch 93/150\n",
      "410/410 [==============================] - 0s 645us/step - loss: 0.1827 - accuracy: 0.8180 - recall: 0.8138 - precision: 0.5743\n",
      "Epoch 94/150\n",
      "410/410 [==============================] - 0s 649us/step - loss: 0.1832 - accuracy: 0.8170 - recall: 0.8048 - precision: 0.5733\n",
      "Epoch 95/150\n",
      "410/410 [==============================] - 0s 655us/step - loss: 0.1823 - accuracy: 0.8189 - recall: 0.8153 - precision: 0.5756\n",
      "Epoch 96/150\n",
      "410/410 [==============================] - 0s 694us/step - loss: 0.1826 - accuracy: 0.8183 - recall: 0.8074 - precision: 0.5754\n",
      "Epoch 97/150\n",
      "410/410 [==============================] - 0s 691us/step - loss: 0.1827 - accuracy: 0.8171 - recall: 0.8132 - precision: 0.5727\n",
      "Epoch 98/150\n",
      "410/410 [==============================] - 0s 695us/step - loss: 0.1826 - accuracy: 0.8163 - recall: 0.8053 - precision: 0.5722\n",
      "Epoch 99/150\n",
      "410/410 [==============================] - 0s 688us/step - loss: 0.1826 - accuracy: 0.8182 - recall: 0.8132 - precision: 0.5746\n",
      "Epoch 100/150\n",
      "410/410 [==============================] - 0s 701us/step - loss: 0.1824 - accuracy: 0.8145 - recall: 0.8053 - precision: 0.5690\n",
      "Epoch 101/150\n",
      "410/410 [==============================] - 0s 689us/step - loss: 0.1825 - accuracy: 0.8180 - recall: 0.8116 - precision: 0.5745\n",
      "Epoch 102/150\n",
      "410/410 [==============================] - 0s 650us/step - loss: 0.1822 - accuracy: 0.8207 - recall: 0.8153 - precision: 0.5789\n",
      "Epoch 103/150\n",
      "410/410 [==============================] - 0s 643us/step - loss: 0.1820 - accuracy: 0.8189 - recall: 0.8159 - precision: 0.5756\n",
      "Epoch 104/150\n",
      "410/410 [==============================] - 0s 651us/step - loss: 0.1821 - accuracy: 0.8166 - recall: 0.8116 - precision: 0.5720\n",
      "Epoch 105/150\n",
      "410/410 [==============================] - 0s 655us/step - loss: 0.1817 - accuracy: 0.8178 - recall: 0.8106 - precision: 0.5742\n",
      "Epoch 106/150\n",
      "410/410 [==============================] - 0s 653us/step - loss: 0.1818 - accuracy: 0.8196 - recall: 0.8196 - precision: 0.5765\n",
      "Epoch 107/150\n",
      "410/410 [==============================] - 0s 653us/step - loss: 0.1816 - accuracy: 0.8194 - recall: 0.8153 - precision: 0.5765\n",
      "Epoch 108/150\n",
      "410/410 [==============================] - 0s 659us/step - loss: 0.1815 - accuracy: 0.8213 - recall: 0.8122 - precision: 0.5803\n",
      "Epoch 109/150\n",
      "410/410 [==============================] - 0s 652us/step - loss: 0.1816 - accuracy: 0.8200 - recall: 0.8132 - precision: 0.5778\n",
      "Epoch 110/150\n",
      "410/410 [==============================] - 0s 658us/step - loss: 0.1811 - accuracy: 0.8222 - recall: 0.8169 - precision: 0.5813\n",
      "Epoch 111/150\n",
      "410/410 [==============================] - 0s 650us/step - loss: 0.1813 - accuracy: 0.8156 - recall: 0.8159 - precision: 0.5698\n",
      "Epoch 112/150\n",
      "410/410 [==============================] - 0s 653us/step - loss: 0.1812 - accuracy: 0.8222 - recall: 0.8159 - precision: 0.5814\n",
      "Epoch 113/150\n",
      "410/410 [==============================] - 0s 659us/step - loss: 0.1810 - accuracy: 0.8190 - recall: 0.8190 - precision: 0.5755\n",
      "Epoch 114/150\n",
      "410/410 [==============================] - 0s 648us/step - loss: 0.1818 - accuracy: 0.8201 - recall: 0.8122 - precision: 0.5782\n",
      "Epoch 115/150\n",
      "410/410 [==============================] - 0s 652us/step - loss: 0.1812 - accuracy: 0.8201 - recall: 0.8169 - precision: 0.5776\n",
      "Epoch 116/150\n",
      "410/410 [==============================] - 0s 656us/step - loss: 0.1811 - accuracy: 0.8188 - recall: 0.8048 - precision: 0.5766\n",
      "Epoch 117/150\n"
     ]
    },
    {
     "name": "stdout",
     "output_type": "stream",
     "text": [
      "410/410 [==============================] - 0s 652us/step - loss: 0.1816 - accuracy: 0.8162 - recall: 0.8138 - precision: 0.5711\n",
      "Epoch 118/150\n",
      "410/410 [==============================] - 0s 651us/step - loss: 0.1810 - accuracy: 0.8196 - recall: 0.8180 - precision: 0.5767\n",
      "Epoch 119/150\n",
      "410/410 [==============================] - 0s 650us/step - loss: 0.1817 - accuracy: 0.8200 - recall: 0.8111 - precision: 0.5781\n",
      "Epoch 120/150\n",
      "410/410 [==============================] - 0s 646us/step - loss: 0.1807 - accuracy: 0.8217 - recall: 0.8180 - precision: 0.5803\n",
      "Epoch 121/150\n",
      "410/410 [==============================] - 0s 655us/step - loss: 0.1811 - accuracy: 0.8185 - recall: 0.8079 - precision: 0.5758\n",
      "Epoch 122/150\n",
      "410/410 [==============================] - 0s 662us/step - loss: 0.1812 - accuracy: 0.8215 - recall: 0.8085 - precision: 0.5810\n",
      "Epoch 123/150\n",
      "410/410 [==============================] - 0s 670us/step - loss: 0.1807 - accuracy: 0.8227 - recall: 0.8233 - precision: 0.5815\n",
      "Epoch 124/150\n",
      "410/410 [==============================] - 0s 670us/step - loss: 0.1812 - accuracy: 0.8195 - recall: 0.8153 - precision: 0.5767\n",
      "Epoch 125/150\n",
      "410/410 [==============================] - 0s 677us/step - loss: 0.1809 - accuracy: 0.8205 - recall: 0.8132 - precision: 0.5787\n",
      "Epoch 126/150\n",
      "410/410 [==============================] - 0s 671us/step - loss: 0.1802 - accuracy: 0.8209 - recall: 0.8196 - precision: 0.5786\n",
      "Epoch 127/150\n",
      "410/410 [==============================] - 0s 676us/step - loss: 0.1804 - accuracy: 0.8239 - recall: 0.8143 - precision: 0.5847\n",
      "Epoch 128/150\n",
      "410/410 [==============================] - 0s 669us/step - loss: 0.1806 - accuracy: 0.8177 - recall: 0.8185 - precision: 0.5732\n",
      "Epoch 129/150\n",
      "410/410 [==============================] - 0s 673us/step - loss: 0.1806 - accuracy: 0.8178 - recall: 0.8069 - precision: 0.5746\n",
      "Epoch 130/150\n",
      "410/410 [==============================] - 0s 678us/step - loss: 0.1805 - accuracy: 0.8220 - recall: 0.8153 - precision: 0.5811\n",
      "Epoch 131/150\n",
      "410/410 [==============================] - 0s 677us/step - loss: 0.1807 - accuracy: 0.8213 - recall: 0.8164 - precision: 0.5799\n",
      "Epoch 132/150\n",
      "410/410 [==============================] - 0s 669us/step - loss: 0.1807 - accuracy: 0.8201 - recall: 0.8095 - precision: 0.5784\n",
      "Epoch 133/150\n",
      "410/410 [==============================] - 0s 672us/step - loss: 0.1799 - accuracy: 0.8224 - recall: 0.8127 - precision: 0.5823\n",
      "Epoch 134/150\n",
      "410/410 [==============================] - 0s 676us/step - loss: 0.1801 - accuracy: 0.8224 - recall: 0.8169 - precision: 0.5818\n",
      "Epoch 135/150\n",
      "410/410 [==============================] - 0s 680us/step - loss: 0.1802 - accuracy: 0.8205 - recall: 0.8138 - precision: 0.5786\n",
      "Epoch 136/150\n",
      "410/410 [==============================] - 0s 681us/step - loss: 0.1802 - accuracy: 0.8220 - recall: 0.8132 - precision: 0.5813\n",
      "Epoch 137/150\n",
      "410/410 [==============================] - 0s 680us/step - loss: 0.1800 - accuracy: 0.8209 - recall: 0.8153 - precision: 0.5791\n",
      "Epoch 138/150\n",
      "410/410 [==============================] - 0s 675us/step - loss: 0.1802 - accuracy: 0.8210 - recall: 0.8106 - precision: 0.5799\n",
      "Epoch 139/150\n",
      "410/410 [==============================] - 0s 671us/step - loss: 0.1796 - accuracy: 0.8206 - recall: 0.8143 - precision: 0.5788\n",
      "Epoch 140/150\n",
      "410/410 [==============================] - 0s 679us/step - loss: 0.1806 - accuracy: 0.8215 - recall: 0.8127 - precision: 0.5805\n",
      "Epoch 141/150\n",
      "410/410 [==============================] - 0s 670us/step - loss: 0.1795 - accuracy: 0.8191 - recall: 0.8201 - precision: 0.5756\n",
      "Epoch 142/150\n",
      "410/410 [==============================] - 0s 667us/step - loss: 0.1803 - accuracy: 0.8210 - recall: 0.8138 - precision: 0.5795\n",
      "Epoch 143/150\n",
      "410/410 [==============================] - 0s 671us/step - loss: 0.1792 - accuracy: 0.8216 - recall: 0.8175 - precision: 0.5802\n",
      "Epoch 144/150\n",
      "410/410 [==============================] - 0s 676us/step - loss: 0.1798 - accuracy: 0.8230 - recall: 0.8153 - precision: 0.5830\n",
      "Epoch 145/150\n",
      "410/410 [==============================] - 0s 668us/step - loss: 0.1797 - accuracy: 0.8232 - recall: 0.8180 - precision: 0.5830\n",
      "Epoch 146/150\n",
      "410/410 [==============================] - 0s 670us/step - loss: 0.1798 - accuracy: 0.8204 - recall: 0.8169 - precision: 0.5781\n",
      "Epoch 147/150\n",
      "410/410 [==============================] - 0s 671us/step - loss: 0.1797 - accuracy: 0.8220 - recall: 0.8122 - precision: 0.5814\n",
      "Epoch 148/150\n",
      "410/410 [==============================] - 0s 669us/step - loss: 0.1796 - accuracy: 0.8241 - recall: 0.8175 - precision: 0.5848\n",
      "Epoch 149/150\n",
      "410/410 [==============================] - 0s 674us/step - loss: 0.1795 - accuracy: 0.8223 - recall: 0.8138 - precision: 0.5819\n",
      "Epoch 150/150\n",
      "410/410 [==============================] - 0s 673us/step - loss: 0.1794 - accuracy: 0.8221 - recall: 0.8185 - precision: 0.5809\n"
     ]
    }
   ],
   "source": [
    "X_train = np.asarray(X_train).astype(np.float32)\n",
    "model_fitted_weight = model2.fit(X_train, y_train, epochs=150, batch_size=20, sample_weight = weight)"
   ]
  },
  {
   "cell_type": "code",
   "execution_count": 17,
   "metadata": {},
   "outputs": [
    {
     "name": "stdout",
     "output_type": "stream",
     "text": [
      "257/257 [==============================] - 0s 621us/step - loss: 0.3726 - accuracy: 0.8337 - recall: 0.8005 - precision: 0.6052\n",
      "Accuracy: 83.37\n",
      "Recall: 80.05\n",
      "Precision: 60.52\n"
     ]
    }
   ],
   "source": [
    "_, accuracy, recall, precision = model2.evaluate(X_train, y_train)\n",
    "print('Accuracy: %.2f' % (accuracy*100))\n",
    "print('Recall: %.2f' % (recall*100))\n",
    "print('Precision: %.2f' % (precision*100))"
   ]
  },
  {
   "cell_type": "code",
   "execution_count": 19,
   "metadata": {},
   "outputs": [
    {
     "data": {
      "image/png": "[encoded data removed]",
      "text/plain": [
       "<Figure size 864x504 with 1 Axes>"
      ]
     },
     "metadata": {
      "needs_background": "light"
     },
     "output_type": "display_data"
    }
   ],
   "source": [
    "plt.figure(figsize=(12,7))\n",
    "plt.title('Evolución de las métricas según se entrena la red neuronal con Configuración 4')\n",
    "plt.plot(model_fitted_weight.history['accuracy'], label='Accuracy_train')\n",
    "#plt.plot(model_fitted_weight.history[precision], label='Precision_train')\n",
    "#plt.plot(model_fitted_weight.history[recall], label='Recall_train')\n",
    "plt.legend()\n",
    "plt.show()"
   ]
  },
  {
   "cell_type": "markdown",
   "metadata": {},
   "source": [
    "### **Evaluación con el dataset Test**"
   ]
  },
  {
   "cell_type": "markdown",
   "metadata": {},
   "source": [
    "Efectivamente vemos que los resultados mejoran mucho una vez se ha aplicado la matriz de costes: se pensaliza equivocarse los días en los que llueve y no se acerta acertar más los días en los que llueve que los días en los que no llueve."
   ]
  },
  {
   "cell_type": "code",
   "execution_count": 20,
   "metadata": {},
   "outputs": [
    {
     "name": "stdout",
     "output_type": "stream",
     "text": [
      "Accuracy: 79.73\n",
      "Recall: 71.05\n",
      "Precision: 53.47\n"
     ]
    }
   ],
   "source": [
    "loss, accuracy_test, recall_test, precision_test = model2.evaluate(X_test, y_test, verbose=0)\n",
    "print('Accuracy: %.2f' % (accuracy_test*100))\n",
    "print('Recall: %.2f' % (recall_test*100))\n",
    "print('Precision: %.2f' % (precision_test*100))"
   ]
  },
  {
   "cell_type": "code",
   "execution_count": 21,
   "metadata": {},
   "outputs": [],
   "source": [
    "#Guardar en HTML\n",
    "!jupyter nbconvert Redes_Neuronales.ipynb --to html --log-level WARN"
   ]
  },
  {
   "cell_type": "code",
   "execution_count": null,
   "metadata": {},
   "outputs": [],
   "source": []
  }
 ],
 "metadata": {
  "kernelspec": {
   "display_name": "Python 3",
   "language": "python",
   "name": "python3"
  },
  "language_info": {
   "codemirror_mode": {
    "name": "ipython",
    "version": 3
   },
   "file_extension": ".py",
   "mimetype": "text/x-python",
   "name": "python",
   "nbconvert_exporter": "python",
   "pygments_lexer": "ipython3",
   "version": "3.7.4"
  }
 },
 "nbformat": 4,
 "nbformat_minor": 4
}
