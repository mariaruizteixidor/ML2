{
 "cells": [
  {
   "cell_type": "code",
   "execution_count": 297,
   "metadata": {},
   "outputs": [
    {
     "data": {
      "text/html": [
       "<script>\n",
       "code_show=true; \n",
       "function code_toggle() {\n",
       " if (code_show){\n",
       " $('div.input').hide();\n",
       " } else {\n",
       " $('div.input').show();\n",
       " }\n",
       " code_show = !code_show\n",
       "} \n",
       "$( document ).ready(code_toggle);\n",
       "</script>\n",
       "<form action=\"javascript:code_toggle()\"><input type=\"submit\" value=\"Click here to toggle on/off the raw code.\"></form>"
      ],
      "text/plain": [
       "<IPython.core.display.HTML object>"
      ]
     },
     "execution_count": 297,
     "metadata": {},
     "output_type": "execute_result"
    }
   ],
   "source": [
    "from IPython.display import HTML\n",
    "\n",
    "HTML('''<script>\n",
    "code_show=true; \n",
    "function code_toggle() {\n",
    " if (code_show){\n",
    " $('div.input').hide();\n",
    " } else {\n",
    " $('div.input').show();\n",
    " }\n",
    " code_show = !code_show\n",
    "} \n",
    "$( document ).ready(code_toggle);\n",
    "</script>\n",
    "<form action=\"javascript:code_toggle()\"><input type=\"submit\" value=\"Click here to toggle on/off the raw code.\"></form>''')"
   ]
  },
  {
   "cell_type": "code",
   "execution_count": 290,
   "metadata": {},
   "outputs": [],
   "source": [
    "import pandas as pd \n",
    "import imblearn\n",
    "import seaborn as sns\n",
    "from imblearn.over_sampling import SMOTENC, RandomOverSampler\n",
    "from imblearn.under_sampling import RandomUnderSampler\n",
    "%matplotlib inline\n",
    "import numpy as np\n",
    "import matplotlib.pyplot as plt\n",
    "\n",
    "from sklearn.metrics import accuracy_score, recall_score, precision_score, confusion_matrix, precision_recall_curve\n",
    "from sklearn.ensemble import RandomForestClassifier"
   ]
  },
  {
   "cell_type": "markdown",
   "metadata": {},
   "source": [
    "# Lectura de datos"
   ]
  },
  {
   "cell_type": "markdown",
   "metadata": {},
   "source": [
    "Los datasets son los que se han usado previamente en otras prácticas, de manera que ya están divididos: \n",
    "\n",
    "- 80% training\n",
    "- 10% test\n",
    "- 10% validación"
   ]
  },
  {
   "cell_type": "code",
   "execution_count": 189,
   "metadata": {},
   "outputs": [],
   "source": [
    "df_train = pd.read_csv(\"datasets/df_train.csv\") \n",
    "df_test = pd.read_csv(\"datasets/df_test.csv\") "
   ]
  },
  {
   "cell_type": "code",
   "execution_count": 190,
   "metadata": {},
   "outputs": [],
   "source": [
    "del df_train['Unnamed: 0']\n",
    "del df_test['Unnamed: 0']"
   ]
  },
  {
   "cell_type": "code",
   "execution_count": 191,
   "metadata": {},
   "outputs": [
    {
     "data": {
      "text/html": [
       "<div>\n",
       "<style scoped>\n",
       "    .dataframe tbody tr th:only-of-type {\n",
       "        vertical-align: middle;\n",
       "    }\n",
       "\n",
       "    .dataframe tbody tr th {\n",
       "        vertical-align: top;\n",
       "    }\n",
       "\n",
       "    .dataframe thead th {\n",
       "        text-align: right;\n",
       "    }\n",
       "</style>\n",
       "<table border=\"1\" class=\"dataframe\">\n",
       "  <thead>\n",
       "    <tr style=\"text-align: right;\">\n",
       "      <th></th>\n",
       "      <th>Date</th>\n",
       "      <th>Season</th>\n",
       "      <th>Location</th>\n",
       "      <th>MinTemp</th>\n",
       "      <th>MaxTemp</th>\n",
       "      <th>Rainfall</th>\n",
       "      <th>Evaporation</th>\n",
       "      <th>Sunshine</th>\n",
       "      <th>WindGustDir</th>\n",
       "      <th>WindGustSpeed</th>\n",
       "      <th>...</th>\n",
       "      <th>Humidity9am</th>\n",
       "      <th>Humidity3pm</th>\n",
       "      <th>Pressure9am</th>\n",
       "      <th>Pressure3pm</th>\n",
       "      <th>Cloud9am</th>\n",
       "      <th>Cloud3pm</th>\n",
       "      <th>Temp9am</th>\n",
       "      <th>Temp3pm</th>\n",
       "      <th>RainToday</th>\n",
       "      <th>RainTomorrow</th>\n",
       "    </tr>\n",
       "  </thead>\n",
       "  <tbody>\n",
       "    <tr>\n",
       "      <th>0</th>\n",
       "      <td>2013-10-26</td>\n",
       "      <td>spring</td>\n",
       "      <td>Adelaide</td>\n",
       "      <td>7.0</td>\n",
       "      <td>22.8</td>\n",
       "      <td>0.0</td>\n",
       "      <td>5.7</td>\n",
       "      <td>7.6</td>\n",
       "      <td>W</td>\n",
       "      <td>26</td>\n",
       "      <td>...</td>\n",
       "      <td>58</td>\n",
       "      <td>19</td>\n",
       "      <td>1027.7</td>\n",
       "      <td>1024.5</td>\n",
       "      <td>8</td>\n",
       "      <td>8</td>\n",
       "      <td>14.1</td>\n",
       "      <td>22.5</td>\n",
       "      <td>0</td>\n",
       "      <td>0</td>\n",
       "    </tr>\n",
       "    <tr>\n",
       "      <th>1</th>\n",
       "      <td>2014-12-10</td>\n",
       "      <td>summer</td>\n",
       "      <td>Sydney</td>\n",
       "      <td>20.4</td>\n",
       "      <td>25.3</td>\n",
       "      <td>0.0</td>\n",
       "      <td>5.0</td>\n",
       "      <td>2.6</td>\n",
       "      <td>E</td>\n",
       "      <td>33</td>\n",
       "      <td>...</td>\n",
       "      <td>73</td>\n",
       "      <td>69</td>\n",
       "      <td>1014.8</td>\n",
       "      <td>1011.4</td>\n",
       "      <td>6</td>\n",
       "      <td>7</td>\n",
       "      <td>22.5</td>\n",
       "      <td>24.7</td>\n",
       "      <td>0</td>\n",
       "      <td>1</td>\n",
       "    </tr>\n",
       "  </tbody>\n",
       "</table>\n",
       "<p>2 rows × 24 columns</p>\n",
       "</div>"
      ],
      "text/plain": [
       "         Date  Season  Location  MinTemp  MaxTemp  Rainfall  Evaporation  \\\n",
       "0  2013-10-26  spring  Adelaide      7.0     22.8       0.0          5.7   \n",
       "1  2014-12-10  summer    Sydney     20.4     25.3       0.0          5.0   \n",
       "\n",
       "   Sunshine WindGustDir  WindGustSpeed  ... Humidity9am Humidity3pm  \\\n",
       "0       7.6           W             26  ...          58          19   \n",
       "1       2.6           E             33  ...          73          69   \n",
       "\n",
       "   Pressure9am  Pressure3pm  Cloud9am  Cloud3pm  Temp9am  Temp3pm  RainToday  \\\n",
       "0       1027.7       1024.5         8         8     14.1     22.5          0   \n",
       "1       1014.8       1011.4         6         7     22.5     24.7          0   \n",
       "\n",
       "   RainTomorrow  \n",
       "0             0  \n",
       "1             1  \n",
       "\n",
       "[2 rows x 24 columns]"
      ]
     },
     "execution_count": 191,
     "metadata": {},
     "output_type": "execute_result"
    }
   ],
   "source": [
    "df_test.head(2)"
   ]
  },
  {
   "cell_type": "markdown",
   "metadata": {},
   "source": [
    "Seleccionamos las variables que sabemos que son significativas gracias a las prácticas anteriores:"
   ]
  },
  {
   "cell_type": "code",
   "execution_count": 192,
   "metadata": {},
   "outputs": [],
   "source": [
    "y_train = df_train['RainTomorrow']\n",
    "y_test = df_test['RainTomorrow']\n",
    "X_train_aux = df_train[[\"MinTemp\", \"MaxTemp\", \"Rainfall\",\"Evaporation\", \"Sunshine\", \"WindGustDir\",\"WindGustSpeed\", \"WindDir9am\", \"WindDir3pm\", \"WindSpeed9am\",  \"WindSpeed3pm\",  \"Humidity9am\",  \"Humidity3pm\",  \"Pressure9am\", \"Pressure3pm\", \"Temp9am\",\"Temp3pm\"]]\n",
    "X_test_aux = df_test[[\"MinTemp\", \"MaxTemp\", \"Rainfall\",\"Evaporation\", \"Sunshine\", \"WindGustDir\",\"WindGustSpeed\", \"WindDir9am\", \"WindDir3pm\", \"WindSpeed9am\",  \"WindSpeed3pm\",  \"Humidity9am\",  \"Humidity3pm\",  \"Pressure9am\", \"Pressure3pm\", \"Temp9am\",\"Temp3pm\"]]"
   ]
  },
  {
   "cell_type": "code",
   "execution_count": 193,
   "metadata": {},
   "outputs": [
    {
     "data": {
      "text/html": [
       "<div>\n",
       "<style scoped>\n",
       "    .dataframe tbody tr th:only-of-type {\n",
       "        vertical-align: middle;\n",
       "    }\n",
       "\n",
       "    .dataframe tbody tr th {\n",
       "        vertical-align: top;\n",
       "    }\n",
       "\n",
       "    .dataframe thead th {\n",
       "        text-align: right;\n",
       "    }\n",
       "</style>\n",
       "<table border=\"1\" class=\"dataframe\">\n",
       "  <thead>\n",
       "    <tr style=\"text-align: right;\">\n",
       "      <th></th>\n",
       "      <th>MinTemp</th>\n",
       "      <th>MaxTemp</th>\n",
       "      <th>Rainfall</th>\n",
       "      <th>Evaporation</th>\n",
       "      <th>Sunshine</th>\n",
       "      <th>WindGustDir</th>\n",
       "      <th>WindGustSpeed</th>\n",
       "      <th>WindDir9am</th>\n",
       "      <th>WindDir3pm</th>\n",
       "      <th>WindSpeed9am</th>\n",
       "      <th>WindSpeed3pm</th>\n",
       "      <th>Humidity9am</th>\n",
       "      <th>Humidity3pm</th>\n",
       "      <th>Pressure9am</th>\n",
       "      <th>Pressure3pm</th>\n",
       "      <th>Temp9am</th>\n",
       "      <th>Temp3pm</th>\n",
       "    </tr>\n",
       "  </thead>\n",
       "  <tbody>\n",
       "    <tr>\n",
       "      <th>0</th>\n",
       "      <td>1.3</td>\n",
       "      <td>19.0</td>\n",
       "      <td>0.0</td>\n",
       "      <td>2.2</td>\n",
       "      <td>9.4</td>\n",
       "      <td>1</td>\n",
       "      <td>30</td>\n",
       "      <td>8</td>\n",
       "      <td>12</td>\n",
       "      <td>7</td>\n",
       "      <td>15</td>\n",
       "      <td>87</td>\n",
       "      <td>34</td>\n",
       "      <td>1024.7</td>\n",
       "      <td>1021.4</td>\n",
       "      <td>7.9</td>\n",
       "      <td>18.6</td>\n",
       "    </tr>\n",
       "    <tr>\n",
       "      <th>1</th>\n",
       "      <td>11.2</td>\n",
       "      <td>23.2</td>\n",
       "      <td>0.0</td>\n",
       "      <td>7.6</td>\n",
       "      <td>12.6</td>\n",
       "      <td>2</td>\n",
       "      <td>41</td>\n",
       "      <td>11</td>\n",
       "      <td>2</td>\n",
       "      <td>17</td>\n",
       "      <td>20</td>\n",
       "      <td>45</td>\n",
       "      <td>41</td>\n",
       "      <td>1026.7</td>\n",
       "      <td>1024.8</td>\n",
       "      <td>16.7</td>\n",
       "      <td>21.9</td>\n",
       "    </tr>\n",
       "    <tr>\n",
       "      <th>2</th>\n",
       "      <td>-4.0</td>\n",
       "      <td>14.1</td>\n",
       "      <td>0.0</td>\n",
       "      <td>4.2</td>\n",
       "      <td>8.3</td>\n",
       "      <td>2</td>\n",
       "      <td>30</td>\n",
       "      <td>4</td>\n",
       "      <td>15</td>\n",
       "      <td>7</td>\n",
       "      <td>11</td>\n",
       "      <td>69</td>\n",
       "      <td>40</td>\n",
       "      <td>1032.7</td>\n",
       "      <td>1029.9</td>\n",
       "      <td>2.9</td>\n",
       "      <td>13.4</td>\n",
       "    </tr>\n",
       "  </tbody>\n",
       "</table>\n",
       "</div>"
      ],
      "text/plain": [
       "   MinTemp  MaxTemp  Rainfall  Evaporation  Sunshine  WindGustDir  \\\n",
       "0      1.3     19.0       0.0          2.2       9.4            1   \n",
       "1     11.2     23.2       0.0          7.6      12.6            2   \n",
       "2     -4.0     14.1       0.0          4.2       8.3            2   \n",
       "\n",
       "   WindGustSpeed  WindDir9am  WindDir3pm  WindSpeed9am  WindSpeed3pm  \\\n",
       "0             30           8          12             7            15   \n",
       "1             41          11           2            17            20   \n",
       "2             30           4          15             7            11   \n",
       "\n",
       "   Humidity9am  Humidity3pm  Pressure9am  Pressure3pm  Temp9am  Temp3pm  \n",
       "0           87           34       1024.7       1021.4      7.9     18.6  \n",
       "1           45           41       1026.7       1024.8     16.7     21.9  \n",
       "2           69           40       1032.7       1029.9      2.9     13.4  "
      ]
     },
     "execution_count": 193,
     "metadata": {},
     "output_type": "execute_result"
    }
   ],
   "source": [
    "X_train.head(3)"
   ]
  },
  {
   "cell_type": "markdown",
   "metadata": {},
   "source": [
    "Debido a que en la anterior práctica de ML se obtuvieron los mejores resultados con **Random Forest**, se va a seleccionar este modelo con el que hacer las pruebas y comparar resultados."
   ]
  },
  {
   "cell_type": "markdown",
   "metadata": {},
   "source": [
    "Convertimos las variables categóricas a variables a una codificación numérica. Esto es así pues el modelo con el que se van a evaluar principalmente las metricas será un Random Forest."
   ]
  },
  {
   "cell_type": "code",
   "execution_count": 199,
   "metadata": {},
   "outputs": [],
   "source": [
    "replace_map = {'WindGustDir': {'NNW': 1, 'SW': 2, 'SSW': 3, 'N': 4, 'WNW': 5, 'WSW': 6, 'ENE': 7 , 'SE': 8 , 'ESE': 9,'W': 10,'S': 11, 'NW': 12, 'NE': 13, 'E': 14, 'SSE':15, 'NNE':16},\n",
    "               'WindDir3pm': {'NNW': 1, 'SW': 2, 'SSW': 3, 'N': 4, 'WNW': 5, 'WSW': 6, 'ENE': 7 , 'SE': 8 , 'ESE': 9,'W': 10,'S': 11, 'NW': 12, 'NE': 13, 'E': 14, 'SSE':15, 'NNE':16},\n",
    "               'WindDir9am': {'NNW': 1, 'SW': 2, 'SSW': 3, 'N': 4, 'WNW': 5, 'WSW': 6, 'ENE': 7 , 'SE': 8 , 'ESE': 9,'W': 10,'S': 11, 'NW': 12, 'NE': 13, 'E': 14, 'SSE':15, 'NNE':16}}"
   ]
  },
  {
   "cell_type": "code",
   "execution_count": 200,
   "metadata": {},
   "outputs": [],
   "source": [
    "X_train = X_train_aux.copy()\n",
    "X_test = X_test_aux.copy()\n",
    "\n",
    "X_train.replace(replace_map, inplace=True)\n",
    "X_test.replace(replace_map, inplace=True)"
   ]
  },
  {
   "cell_type": "code",
   "execution_count": 201,
   "metadata": {},
   "outputs": [
    {
     "data": {
      "text/html": [
       "<div>\n",
       "<style scoped>\n",
       "    .dataframe tbody tr th:only-of-type {\n",
       "        vertical-align: middle;\n",
       "    }\n",
       "\n",
       "    .dataframe tbody tr th {\n",
       "        vertical-align: top;\n",
       "    }\n",
       "\n",
       "    .dataframe thead th {\n",
       "        text-align: right;\n",
       "    }\n",
       "</style>\n",
       "<table border=\"1\" class=\"dataframe\">\n",
       "  <thead>\n",
       "    <tr style=\"text-align: right;\">\n",
       "      <th></th>\n",
       "      <th>MinTemp</th>\n",
       "      <th>MaxTemp</th>\n",
       "      <th>Rainfall</th>\n",
       "      <th>Evaporation</th>\n",
       "      <th>Sunshine</th>\n",
       "      <th>WindGustDir</th>\n",
       "      <th>WindGustSpeed</th>\n",
       "      <th>WindDir9am</th>\n",
       "      <th>WindDir3pm</th>\n",
       "      <th>WindSpeed9am</th>\n",
       "      <th>WindSpeed3pm</th>\n",
       "      <th>Humidity9am</th>\n",
       "      <th>Humidity3pm</th>\n",
       "      <th>Pressure9am</th>\n",
       "      <th>Pressure3pm</th>\n",
       "      <th>Temp9am</th>\n",
       "      <th>Temp3pm</th>\n",
       "    </tr>\n",
       "  </thead>\n",
       "  <tbody>\n",
       "    <tr>\n",
       "      <th>0</th>\n",
       "      <td>1.3</td>\n",
       "      <td>19.0</td>\n",
       "      <td>0.0</td>\n",
       "      <td>2.2</td>\n",
       "      <td>9.4</td>\n",
       "      <td>1</td>\n",
       "      <td>30</td>\n",
       "      <td>8</td>\n",
       "      <td>12</td>\n",
       "      <td>7</td>\n",
       "      <td>15</td>\n",
       "      <td>87</td>\n",
       "      <td>34</td>\n",
       "      <td>1024.7</td>\n",
       "      <td>1021.4</td>\n",
       "      <td>7.9</td>\n",
       "      <td>18.6</td>\n",
       "    </tr>\n",
       "    <tr>\n",
       "      <th>1</th>\n",
       "      <td>11.2</td>\n",
       "      <td>23.2</td>\n",
       "      <td>0.0</td>\n",
       "      <td>7.6</td>\n",
       "      <td>12.6</td>\n",
       "      <td>2</td>\n",
       "      <td>41</td>\n",
       "      <td>11</td>\n",
       "      <td>2</td>\n",
       "      <td>17</td>\n",
       "      <td>20</td>\n",
       "      <td>45</td>\n",
       "      <td>41</td>\n",
       "      <td>1026.7</td>\n",
       "      <td>1024.8</td>\n",
       "      <td>16.7</td>\n",
       "      <td>21.9</td>\n",
       "    </tr>\n",
       "    <tr>\n",
       "      <th>2</th>\n",
       "      <td>-4.0</td>\n",
       "      <td>14.1</td>\n",
       "      <td>0.0</td>\n",
       "      <td>4.2</td>\n",
       "      <td>8.3</td>\n",
       "      <td>2</td>\n",
       "      <td>30</td>\n",
       "      <td>4</td>\n",
       "      <td>15</td>\n",
       "      <td>7</td>\n",
       "      <td>11</td>\n",
       "      <td>69</td>\n",
       "      <td>40</td>\n",
       "      <td>1032.7</td>\n",
       "      <td>1029.9</td>\n",
       "      <td>2.9</td>\n",
       "      <td>13.4</td>\n",
       "    </tr>\n",
       "  </tbody>\n",
       "</table>\n",
       "</div>"
      ],
      "text/plain": [
       "   MinTemp  MaxTemp  Rainfall  Evaporation  Sunshine  WindGustDir  \\\n",
       "0      1.3     19.0       0.0          2.2       9.4            1   \n",
       "1     11.2     23.2       0.0          7.6      12.6            2   \n",
       "2     -4.0     14.1       0.0          4.2       8.3            2   \n",
       "\n",
       "   WindGustSpeed  WindDir9am  WindDir3pm  WindSpeed9am  WindSpeed3pm  \\\n",
       "0             30           8          12             7            15   \n",
       "1             41          11           2            17            20   \n",
       "2             30           4          15             7            11   \n",
       "\n",
       "   Humidity9am  Humidity3pm  Pressure9am  Pressure3pm  Temp9am  Temp3pm  \n",
       "0           87           34       1024.7       1021.4      7.9     18.6  \n",
       "1           45           41       1026.7       1024.8     16.7     21.9  \n",
       "2           69           40       1032.7       1029.9      2.9     13.4  "
      ]
     },
     "execution_count": 201,
     "metadata": {},
     "output_type": "execute_result"
    }
   ],
   "source": [
    "X_train.head(3)"
   ]
  },
  {
   "cell_type": "markdown",
   "metadata": {},
   "source": [
    "# 0. Datos desequilibrados"
   ]
  },
  {
   "cell_type": "markdown",
   "metadata": {},
   "source": [
    "Comprobamos en primer lugar, recordamos cómo son los datos, qué proporción hay de cada clase:"
   ]
  },
  {
   "cell_type": "code",
   "execution_count": 254,
   "metadata": {},
   "outputs": [
    {
     "data": {
      "image/png": "[encoded data removed]",
      "text/plain": [
       "<Figure size 432x432 with 1 Axes>"
      ]
     },
     "metadata": {
      "needs_background": "light"
     },
     "output_type": "display_data"
    }
   ],
   "source": [
    "g = sns.catplot(x=\"RainTomorrow\", data=df_train, height=6, kind=\"count\", palette=\"husl\")\n",
    "g.despine(left=True)\n",
    "g.set_ylabels(\"Número de días\")\n",
    "plt.show()"
   ]
  },
  {
   "cell_type": "markdown",
   "metadata": {},
   "source": [
    "Veamos los resultados que se obtienen sin aplicar ninguna técnica para balancear los datos. Para el Random Forest se usan las **mismas variables** y **parámetros** con los que se obtuvieron los mejores resultados (500 árboles)."
   ]
  },
  {
   "cell_type": "markdown",
   "metadata": {},
   "source": [
    "Recordamos que con el problema del dataset, predecir los días en los que va a llover, no sólo nos interesa tener un buen accuracy sino también un buen recall, es decir, acertar bien los días en los que sí llueve."
   ]
  },
  {
   "cell_type": "code",
   "execution_count": 270,
   "metadata": {},
   "outputs": [
    {
     "name": "stdout",
     "output_type": "stream",
     "text": [
      "Accuracy: 0.8564453125 Recall: 0.4744186046511628\n"
     ]
    }
   ],
   "source": [
    "rf = RandomForestClassifier(n_estimators=500, random_state=0)\n",
    "rf.fit(X_train, y_train)\n",
    "y_pred = rf.predict(X_test)\n",
    "print('Accuracy:', accuracy_score(y_test, y_pred), 'Recall:', recall_score(y_test, y_pred))"
   ]
  },
  {
   "cell_type": "markdown",
   "metadata": {},
   "source": [
    "Si observamos la matriz de confusión, efectivamente comprobamos que se predicen bien los días en los que no llueve pero el modelo se equivoca en 113 días diciendo que no llueve cuando sí llueve, la mitad aproximadamente."
   ]
  },
  {
   "cell_type": "code",
   "execution_count": 271,
   "metadata": {},
   "outputs": [
    {
     "name": "stdout",
     "output_type": "stream",
     "text": [
      "Matriz de confusión:\n",
      "[[775  34]\n",
      " [113 102]]\n"
     ]
    }
   ],
   "source": [
    "print('Matriz de confusión:')\n",
    "print(confusion_matrix(y_test, y_pred))"
   ]
  },
  {
   "cell_type": "markdown",
   "metadata": {},
   "source": [
    "# 1. Generación de datos sintéticos (SMOTE)"
   ]
  },
  {
   "cell_type": "markdown",
   "metadata": {},
   "source": [
    "Este método se basa en los vecinos cercanos a los datos para generar datos sintéticos. Es un método de oversampling, pues crea nuevos datos para llegar a equilibrar la proporción entre las dos clases. Leyendo la documentación, hay un método de SMOTE que es para datasets con variables continuas y categóricas, **SMOTENC**. Probamos a sobre-mostrear con este método."
   ]
  },
  {
   "cell_type": "markdown",
   "metadata": {},
   "source": [
    "Ajustamos SMOTENC:"
   ]
  },
  {
   "cell_type": "code",
   "execution_count": 217,
   "metadata": {},
   "outputs": [],
   "source": [
    "smt = SMOTENC(random_state = 0, categorical_features = [5, 7,8])"
   ]
  },
  {
   "cell_type": "code",
   "execution_count": 218,
   "metadata": {},
   "outputs": [],
   "source": [
    "X_train_smote, y_train_smote = smt.fit_sample(X_train, y_train)"
   ]
  },
  {
   "cell_type": "markdown",
   "metadata": {},
   "source": [
    "Contamos el número de muestras por cada clase, comprobando que el muestreo ha sido correcto:"
   ]
  },
  {
   "cell_type": "code",
   "execution_count": 219,
   "metadata": {},
   "outputs": [
    {
     "data": {
      "text/plain": [
       "array([6266, 1935])"
      ]
     },
     "execution_count": 219,
     "metadata": {},
     "output_type": "execute_result"
    }
   ],
   "source": [
    "np.bincount(y_train)"
   ]
  },
  {
   "cell_type": "markdown",
   "metadata": {},
   "source": [
    "Ejecutamos el Random Forest sobre los datos balanceados con SMOTENC:"
   ]
  },
  {
   "cell_type": "code",
   "execution_count": 220,
   "metadata": {},
   "outputs": [],
   "source": [
    "rf = RandomForestClassifier(n_estimators=500, random_state=0)"
   ]
  },
  {
   "cell_type": "markdown",
   "metadata": {},
   "source": [
    "Observamos que el accuracy disminuye un poco pero el recall aumenta considerablemente."
   ]
  },
  {
   "cell_type": "code",
   "execution_count": 221,
   "metadata": {},
   "outputs": [
    {
     "name": "stdout",
     "output_type": "stream",
     "text": [
      "Accuracy: 0.8173828125 Recall: 0.6511627906976745\n"
     ]
    }
   ],
   "source": [
    "rf.fit(X_train_smote, y_train_smote)\n",
    "y_pred_smote = rf.predict(X_test)\n",
    "accuracy_score(y_test, y_pred)\n",
    "print('Accuracy:', accuracy_score(y_test, y_pred_smote), 'Recall:', recall_score(y_test, y_pred_smote))"
   ]
  },
  {
   "cell_type": "markdown",
   "metadata": {},
   "source": [
    "Observando la matriz de confusión efectivamente vemos que se reducen los días en los que llueve y se predice que no llueve."
   ]
  },
  {
   "cell_type": "code",
   "execution_count": 222,
   "metadata": {},
   "outputs": [
    {
     "name": "stdout",
     "output_type": "stream",
     "text": [
      "Matriz de confusión:\n",
      "[[697 112]\n",
      " [ 75 140]]\n"
     ]
    }
   ],
   "source": [
    "print('Matriz de confusión:')\n",
    "print(confusion_matrix(y_test, y_pred_smote))"
   ]
  },
  {
   "cell_type": "markdown",
   "metadata": {},
   "source": [
    "# 2. Sobremuestreo"
   ]
  },
  {
   "cell_type": "markdown",
   "metadata": {},
   "source": [
    "Probamos otro método para balancear datasets con variables categóricas: submuestreo aleatorio. Se sobremuestrea la clase minoritaria cogiendo muestras aleatoriamente con repuesto."
   ]
  },
  {
   "cell_type": "code",
   "execution_count": 231,
   "metadata": {},
   "outputs": [],
   "source": [
    "oversample = RandomOverSampler(random_state=0)\n",
    "\n",
    "X_train_orandom, y_train_orandom = oversample.fit_resample(X_train, y_train)"
   ]
  },
  {
   "cell_type": "code",
   "execution_count": 232,
   "metadata": {},
   "outputs": [
    {
     "data": {
      "text/plain": [
       "array([6266, 6266])"
      ]
     },
     "execution_count": 232,
     "metadata": {},
     "output_type": "execute_result"
    }
   ],
   "source": [
    "np.bincount(y_random)"
   ]
  },
  {
   "cell_type": "markdown",
   "metadata": {},
   "source": [
    "Observamos que este método no es tan efectivo como el SMOTE, el accuracy se mantiene alto pero el recall no aumenta tanto:"
   ]
  },
  {
   "cell_type": "code",
   "execution_count": 233,
   "metadata": {},
   "outputs": [
    {
     "name": "stdout",
     "output_type": "stream",
     "text": [
      "Accuracy: 0.8525390625 Recall: 0.5674418604651162\n"
     ]
    }
   ],
   "source": [
    "rf.fit(X_train_orandom, y_train_orandom)\n",
    "y_pred = rf.predict(X_test)\n",
    "accuracy_score(y_test, y_pred_orandom)\n",
    "print('Accuracy:', accuracy_score(y_test, y_pred_orandom), 'Recall:', recall_score(y_test, y_pred_orandom))"
   ]
  },
  {
   "cell_type": "code",
   "execution_count": 234,
   "metadata": {},
   "outputs": [
    {
     "name": "stdout",
     "output_type": "stream",
     "text": [
      "Matriz de confusión:\n",
      "[[751  58]\n",
      " [ 93 122]]\n"
     ]
    }
   ],
   "source": [
    "print('Matriz de confusión:')\n",
    "print(confusion_matrix(y_test, y_pred_orandom))"
   ]
  },
  {
   "cell_type": "markdown",
   "metadata": {},
   "source": [
    "# 3. Submuestreo"
   ]
  },
  {
   "cell_type": "markdown",
   "metadata": {},
   "source": [
    "Probamos otro método para balancear datasets con variables categóricas: submuestreo aleatorio. Se trata de busmuestrear la clase mayoritaria seleccionando aleatoriamente muestras con o sin repuesto."
   ]
  },
  {
   "cell_type": "code",
   "execution_count": 239,
   "metadata": {},
   "outputs": [],
   "source": [
    "undersample = RandomUnderSampler(random_state=0)\n",
    "\n",
    "X_train_urandom, y_train_urandom = undersample.fit_resample(X_train, y_train)"
   ]
  },
  {
   "cell_type": "code",
   "execution_count": 243,
   "metadata": {},
   "outputs": [
    {
     "data": {
      "text/plain": [
       "array([1935, 1935])"
      ]
     },
     "execution_count": 243,
     "metadata": {},
     "output_type": "execute_result"
    }
   ],
   "source": [
    "np.bincount(y_train_urandom)"
   ]
  },
  {
   "cell_type": "markdown",
   "metadata": {},
   "source": [
    "Observamos que con este método se obtienen buenos resultados a pesar de quitar información al problema. El accuracy disminuye pero el recall aumenta a niveles parecidos, que nos interesa especialmente:"
   ]
  },
  {
   "cell_type": "code",
   "execution_count": 241,
   "metadata": {},
   "outputs": [
    {
     "name": "stdout",
     "output_type": "stream",
     "text": [
      "Accuracy: 0.76953125 Recall: 0.7395348837209302\n"
     ]
    }
   ],
   "source": [
    "rf.fit(X_train_urandom, y_train_urandom)\n",
    "y_pred_urandom = rf.predict(X_test)\n",
    "accuracy_score(y_test, y_pred)\n",
    "print('Accuracy:', accuracy_score(y_test, y_pred_urandom), 'Recall:', recall_score(y_test, y_pred_urandom))"
   ]
  },
  {
   "cell_type": "code",
   "execution_count": 242,
   "metadata": {},
   "outputs": [
    {
     "name": "stdout",
     "output_type": "stream",
     "text": [
      "Matriz de confusión:\n",
      "[[629 180]\n",
      " [ 56 159]]\n"
     ]
    }
   ],
   "source": [
    "print('Matriz de confusión:')\n",
    "print(confusion_matrix(y_test, y_pred_urandom))"
   ]
  },
  {
   "cell_type": "markdown",
   "metadata": {},
   "source": [
    "# 4. Clases reponderadas"
   ]
  },
  {
   "cell_type": "markdown",
   "metadata": {},
   "source": [
    "En este método hacemos uso del parámetro de la propia función de sklearn, **class_weight** para indicar que los días en los que llueve tengan más peso en el entrenamiento. Mejoran los resultados pero no tanto como los otros métodos."
   ]
  },
  {
   "cell_type": "code",
   "execution_count": 261,
   "metadata": {},
   "outputs": [
    {
     "name": "stdout",
     "output_type": "stream",
     "text": [
      "Accuracy: 0.8623046875 Recall: 0.4883720930232558\n"
     ]
    }
   ],
   "source": [
    "rf = RandomForestClassifier(n_estimators=500, random_state=0, class_weight={0:1,1:2})\n",
    "rf.fit(X_train, y_train)\n",
    "y_pred_pond = rf.predict(X_test)\n",
    "print('Accuracy:', accuracy_score(y_test, y_pred_pond), 'Recall:', recall_score(y_test, y_pred_pond))"
   ]
  },
  {
   "cell_type": "code",
   "execution_count": 257,
   "metadata": {},
   "outputs": [
    {
     "name": "stdout",
     "output_type": "stream",
     "text": [
      "Matriz de confusión:\n",
      "[[779  30]\n",
      " [116  99]]\n"
     ]
    }
   ],
   "source": [
    "print('Matriz de confusión:')\n",
    "print(confusion_matrix(y_test, y_pred_pond))"
   ]
  },
  {
   "cell_type": "markdown",
   "metadata": {},
   "source": [
    "# 5. Clasificación basada en costos"
   ]
  },
  {
   "cell_type": "code",
   "execution_count": null,
   "metadata": {},
   "outputs": [],
   "source": []
  },
  {
   "cell_type": "code",
   "execution_count": null,
   "metadata": {},
   "outputs": [],
   "source": []
  },
  {
   "cell_type": "markdown",
   "metadata": {},
   "source": [
    "# 6. Umbral de probabilidad"
   ]
  },
  {
   "cell_type": "code",
   "execution_count": 288,
   "metadata": {},
   "outputs": [],
   "source": [
    "precision, recall, thresholds = precision_recall_curve(y_test, y_pred)"
   ]
  },
  {
   "cell_type": "code",
   "execution_count": 296,
   "metadata": {},
   "outputs": [
    {
     "data": {
      "image/png": "[encoded data removed]",
      "text/plain": [
       "<Figure size 576x360 with 1 Axes>"
      ]
     },
     "metadata": {
      "needs_background": "light"
     },
     "output_type": "display_data"
    }
   ],
   "source": [
    "def plot_precision_recall_vs_threshold(precisions, recall, thresholds): \n",
    "    fig = plt.figure(figsize= (8,5))\n",
    "    plt.plot(thresholds, precisions[:-1], \"b--\", label=\"Precision\")\n",
    "    plt.plot(thresholds, recall[:-1], \"g-\", label=\"Recall\")\n",
    "    plt.legend()\n",
    "\n",
    "plot_precision_recall_vs_threshold(precision, recall, thresholds)"
   ]
  },
  {
   "cell_type": "code",
   "execution_count": 262,
   "metadata": {},
   "outputs": [
    {
     "data": {
      "text/plain": [
       "RandomForestClassifier(n_estimators=500, random_state=0)"
      ]
     },
     "execution_count": 262,
     "metadata": {},
     "output_type": "execute_result"
    }
   ],
   "source": [
    "rf = RandomForestClassifier(n_estimators=500, random_state=0)\n",
    "rf.fit(X_train, y_train)"
   ]
  },
  {
   "cell_type": "code",
   "execution_count": 293,
   "metadata": {},
   "outputs": [
    {
     "name": "stdout",
     "output_type": "stream",
     "text": [
      "Accuracy: 0.5419921875 Recall: 0.9162790697674419 Precision: 0.30401234567901236\n"
     ]
    }
   ],
   "source": [
    "threshold = 0.1\n",
    "\n",
    "predicted_proba = rf.predict_proba(X_test)\n",
    "predicted = (predicted_proba [:,1] >= threshold).astype('int')\n",
    "\n",
    "print('Accuracy:', accuracy_score(y_test, predicted), 'Recall:', recall_score(y_test, predicted), 'Precision:', precision_score(y_test, predicted))"
   ]
  },
  {
   "cell_type": "code",
   "execution_count": 268,
   "metadata": {},
   "outputs": [
    {
     "name": "stdout",
     "output_type": "stream",
     "text": [
      "Matriz de confusión:\n",
      "[[659 150]\n",
      " [ 67 148]]\n"
     ]
    }
   ],
   "source": [
    "print('Matriz de confusión:')\n",
    "print(confusion_matrix(y_test, predicted))"
   ]
  },
  {
   "cell_type": "code",
   "execution_count": null,
   "metadata": {},
   "outputs": [],
   "source": []
  }
 ],
 "metadata": {
  "kernelspec": {
   "display_name": "Python 3",
   "language": "python",
   "name": "python3"
  },
  "language_info": {
   "codemirror_mode": {
    "name": "ipython",
    "version": 3
   },
   "file_extension": ".py",
   "mimetype": "text/x-python",
   "name": "python",
   "nbconvert_exporter": "python",
   "pygments_lexer": "ipython3",
   "version": "3.7.4"
  }
 },
 "nbformat": 4,
 "nbformat_minor": 4
}
